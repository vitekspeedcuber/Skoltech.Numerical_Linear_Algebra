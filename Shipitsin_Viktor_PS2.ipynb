{
 "cells": [
  {
   "cell_type": "markdown",
   "metadata": {},
   "source": [
    "# Problem set 2 (145 pts)"
   ]
  },
  {
   "cell_type": "markdown",
   "metadata": {},
   "source": [
    "## Problem 1 (LU decomposition) 25 pts"
   ]
  },
  {
   "cell_type": "markdown",
   "metadata": {},
   "source": [
    "### 1. LU for band matrices (7 pts)\n",
    "\n",
    "The complexity to find an LU decomposition of a dense $n\\times n$ matrix is $\\mathcal{O}(n^3)$.\n",
    "Significant reduction in complexity can be achieved if the matrix has a certain structure, e.g. it is sparse. \n",
    "In the following task we consider an important example of $LU$ for a special type of sparse matrices –– band matrices with the bandwidth $m$ equal to 3 or 5 which called tridiagonal and pentadiagonal respectively.\n",
    "\n",
    "- (5 pts) Write a function ```band_lu(diag_broadcast, n)``` which computes LU decomposition for tridiagonal or pentadiagonal matrix with given diagonal values. \n",
    "For example, input parametres ```(diag_broadcast = [4,-2,1], n = 4)``` mean that we need to find LU decomposition for the triangular matrix of the form:\n",
    "\n",
    "$$A = \\begin{pmatrix}\n",
    "-2 & 1 & 0 & 0\\\\\n",
    "4 & -2 & 1 & 0 \\\\\n",
    "0 & 4 & -2 & 1 \\\\\n",
    "0 & 0 & 4 & -2 \\\\\n",
    "\\end{pmatrix}.$$\n",
    "\n",
    "As an output it is considered to make ```L``` and ```U``` - 2D arrays representing diagonals in factors $L$ (```L[0]``` keeps first lower diagonal, ```L[1]``` keeps second lower, ...), and $U$ (```U[:,0]``` keeps main diagonal, ```U[:,1]``` keeps first upper, ...).\n",
    "- (2 pts) Compare execution time of the band LU decomposition using standard function from ```scipy```, i.e. which takes the whole matrix and does not know about its special structure, and band decomposition of yours implementation. Comment on the results."
   ]
  },
  {
   "cell_type": "markdown",
   "metadata": {},
   "source": [
    "**P1.1.1**\n",
    "\n",
    "Matrix $A$ is called a **matrix with a half-width $p$**, if its elements $a_{ij} = 0$ for $|i - j| > p$, but there is at least one element $a_{ij} \\not= 0$ for $|i - j| = p$.\n",
    "\n",
    "There is a **theorem** that:\n",
    "\n",
    "If the half-width of the matrix $A$ is equal to $p$, then in the LU-decomposition the half-width of L(U) is not more than $p$."
   ]
  },
  {
   "cell_type": "code",
   "execution_count": 1,
   "metadata": {},
   "outputs": [],
   "source": [
    "from scipy.sparse import diags # can be used with broadcasting of scalars if desired dimensions are large\n",
    "import numpy as np\n",
    "\n",
    "# INPUT : diag_broadcast - list of diagonals value to broadcast,length equal to 3 or 5; n - integer, band matrix shape.\n",
    "# OUTPUT : L - 2D np.ndarray, L.shape[0] depends on bandwidth, L.shape[1] = n-1, do not store main diagonal, where all ones;                  add zeros to the right side of rows to handle with changing length of diagonals.\n",
    "#          U - 2D np.ndarray, U.shape[0] = n, U.shape[1] depends on bandwidth;\n",
    "#              add zeros to the bottom of columns to handle with changing length of diagonals.\n",
    "def band_lu(diag_broadcast, n):\n",
    "    p = (len(diag_broadcast) - 1) // 2\n",
    "    \n",
    "    U = np.zeros((n, p+1))\n",
    "    L = np.zeros((p, n-1))\n",
    "    \n",
    "    for i in range(1, n + 1):\n",
    "        diag_number = 0\n",
    "        for j in range(i, min(n, p + i) + 1):\n",
    "            element = diag_broadcast[1 - (i - j)]\n",
    "            for k in range(max(1, j-p), i):\n",
    "                element -= L[i-k-1, k-1]*U[k-1, j-k]\n",
    "            U[i-1, diag_number] = element\n",
    "            diag_number += 1\n",
    "        if U[i-1, 0] == 0:\n",
    "            print('There is no LU-decomposition')\n",
    "            return -1, -1\n",
    "        \n",
    "        diag_number = 0\n",
    "        for m in range(i+1, min(n, p + i) + 1):\n",
    "            element = diag_broadcast[1 - (m - i)]\n",
    "            for k in range(max(1, m-p), i):\n",
    "                element -= L[m-k-1, k-1]*U[k-1, i-k]\n",
    "            L[diag_number, i-1] = element / U[i-1, 0]\n",
    "            diag_number += 1\n",
    "    \n",
    "    return L, U"
   ]
  },
  {
   "cell_type": "code",
   "execution_count": 2,
   "metadata": {},
   "outputs": [],
   "source": [
    "from timeit import default_timer as timer"
   ]
  },
  {
   "cell_type": "code",
   "execution_count": 3,
   "metadata": {},
   "outputs": [],
   "source": [
    "from scipy.linalg import lu"
   ]
  },
  {
   "cell_type": "code",
   "execution_count": 4,
   "metadata": {},
   "outputs": [
    {
     "name": "stdout",
     "output_type": "stream",
     "text": [
      "matrix A is\n",
      "[[-2.  1.  0. ...  0.  0.  0.]\n",
      " [ 3. -2.  1. ...  0.  0.  0.]\n",
      " [ 0.  3. -2. ...  0.  0.  0.]\n",
      " ...\n",
      " [ 0.  0.  0. ... -2.  1.  0.]\n",
      " [ 0.  0.  0. ...  3. -2.  1.]\n",
      " [ 0.  0.  0. ...  0.  3. -2.]]\n",
      "\n",
      "Custom LU-decomposition time is 0.0013530999999993298\n",
      "SciPy LU-decomposition time is 0.13532730000000015\n"
     ]
    }
   ],
   "source": [
    "diag_broadcast = [3,-2,1]\n",
    "n = 100\n",
    "\n",
    "p = (len(diag_broadcast) - 1) // 2\n",
    "A = diags(diag_broadcast, [i for i in range(-p, p + 1)], shape=(n, n)).toarray()\n",
    "\n",
    "print('matrix A is')\n",
    "print(A)\n",
    "print()\n",
    "\n",
    "start = timer()\n",
    "L, U = band_lu(diag_broadcast, n)\n",
    "time = timer() - start\n",
    "print('Custom LU-decomposition time is', time)\n",
    "\n",
    "start = timer()\n",
    "_, L, U = lu(A)\n",
    "time = timer() - start\n",
    "print('SciPy LU-decomposition time is', time)"
   ]
  },
  {
   "cell_type": "code",
   "execution_count": 5,
   "metadata": {},
   "outputs": [],
   "source": [
    "diag_broadcast = [3,-2,1]\n",
    "p = (len(diag_broadcast) - 1) // 2\n",
    "\n",
    "sizes = np.array([i for i in range(10, 1000, 10)])\n",
    "band_lu_times = []\n",
    "lu_times = []\n",
    "\n",
    "for n in sizes:\n",
    "    A = diags(diag_broadcast, [i for i in range(-p, p + 1)], shape=(n, n)).toarray()\n",
    "    \n",
    "    start = timer()\n",
    "    L, U = band_lu(diag_broadcast, n)\n",
    "    time = timer() - start\n",
    "    band_lu_times.append(1000*time)\n",
    "\n",
    "    start = timer()\n",
    "    _, L, U = lu(A)\n",
    "    time = timer() - start\n",
    "    lu_times.append(1000*time)"
   ]
  },
  {
   "cell_type": "code",
   "execution_count": 6,
   "metadata": {},
   "outputs": [],
   "source": [
    "import matplotlib.pyplot as plt"
   ]
  },
  {
   "cell_type": "code",
   "execution_count": 7,
   "metadata": {},
   "outputs": [
    {
     "data": {
      "image/png": "[encoded data removed]",
      "text/plain": [
       "<Figure size 432x288 with 1 Axes>"
      ]
     },
     "metadata": {
      "needs_background": "light"
     },
     "output_type": "display_data"
    }
   ],
   "source": [
    "plt.plot(sizes, band_lu_times, label='band_lu')\n",
    "plt.plot(sizes, lu_times, label='lu')\n",
    "plt.xlabel('n')\n",
    "plt.ylabel('time, ms')\n",
    "plt.legend();"
   ]
  },
  {
   "cell_type": "markdown",
   "metadata": {},
   "source": [
    "For large $n$ solution which takes into account the special structure works better since there is processed only non-zero entries."
   ]
  },
  {
   "cell_type": "markdown",
   "metadata": {},
   "source": [
    "### 2. Stability of LU (8 pts)\n",
    "\n",
    "Let\n",
    "$A = \\begin{pmatrix}\n",
    "\\varepsilon & 1 & 0\\\\\n",
    "1 & 1 & 1 \\\\\n",
    "0 & 1 & 1\n",
    "\\end{pmatrix}.$ \n",
    "* (5 pts) Find analytically LU decomposition with and without pivoting for the matrix $A$.\n",
    "* (3 pts) Explain, why can the LU decomposition fail to approximate factors $L$ and $U$ for $|\\varepsilon|\\ll 1$ in computer arithmetic?"
   ]
  },
  {
   "cell_type": "markdown",
   "metadata": {},
   "source": [
    "**P1.2.1**\n",
    "\n",
    "* With pivoting:\n",
    "\n",
    "$P = \\begin{pmatrix}\n",
    "           0 & 1 & 0 \\\\\n",
    "           1 & 0 & 0 \\\\\n",
    "           0 & 0 & 1\n",
    "     \\end{pmatrix} => P^{-1} = P$\n",
    "\n",
    "So, $PA = \\begin{pmatrix}\n",
    "             1 & 1 & 1 \\\\\n",
    "             \\varepsilon & 1 & 0 \\\\\n",
    "             0 & 1 & 1\n",
    "          \\end{pmatrix}$\n",
    "          \n",
    "Then $A = P^{-1}\\begin{pmatrix}\n",
    "                  1 & 1 & 1 \\\\\n",
    "                  \\varepsilon & 1 & 0 \\\\\n",
    "                  0 & 1 & 1\n",
    "                \\end{pmatrix} = P^{-1}\\begin{pmatrix}\n",
    "                                        1 & 0 & 0 \\\\\n",
    "                                        \\varepsilon & 1 & 0 \\\\\n",
    "                                        0 & 0 & 1\n",
    "                                       \\end{pmatrix} \\begin{pmatrix}\n",
    "                                                       1 & 1 & 1 \\\\\n",
    "                                                       0 & 1 - \\varepsilon & -\\varepsilon \\\\\n",
    "                                                       0 & 1 & 1\n",
    "                                                     \\end{pmatrix} = \n",
    "          P^{-1}\\begin{pmatrix}\n",
    "                   1 & 0 & 0 \\\\\n",
    "                   \\varepsilon & 1 & 0 \\\\\n",
    "                   0 & \\cfrac{1}{1 - \\varepsilon} & 1\n",
    "                \\end{pmatrix} \\begin{pmatrix}\n",
    "                                1 & 1 & 1 \\\\\n",
    "                                0 & 1 - \\varepsilon & -\\varepsilon \\\\\n",
    "                                0 & 0 & \\cfrac{1}{1 - \\varepsilon}\n",
    "                              \\end{pmatrix}$\n",
    "\n",
    "* Without pivoting:\n",
    "\n",
    "We will calculate the decomposition using the programmed algorithm:\n",
    "\n",
    "**first step:**\n",
    "\n",
    "* $u_{11} = a_{11} = \\varepsilon$, $u_{12} = a_{12} = 1$\n",
    "* $l_{21} = \\cfrac{a_{21}}{u_{11}} = \\cfrac{1}{\\varepsilon}$\n",
    "\n",
    "**second step:**\n",
    "\n",
    "* $u_{22} = a_{22} - l_{21}u_{12} = 1 - \\cfrac{1}{\\varepsilon}$, $u_{23} = a_{23} = 1$\n",
    "* $l_{32} = \\cfrac{a_{32}}{u_{22}} = \\cfrac{\\varepsilon}{\\varepsilon - 1}$\n",
    "\n",
    "**third step:**\n",
    "\n",
    "* $u_{33} = a_{33} - l_{32}u_{23} = \\cfrac{-1}{\\varepsilon - 1}$\n",
    "\n",
    "Thus, matrices $L$ and $U$ are equal to:\n",
    "\n",
    "$L = \\begin{pmatrix}\n",
    "           1 & 0 & 0 \\\\\n",
    "           \\cfrac{1}{\\varepsilon} & 1 & 0 \\\\\n",
    "           0 & \\cfrac{\\varepsilon}{\\varepsilon - 1} & 1\n",
    "     \\end{pmatrix},\\quad$\n",
    "$U = \\begin{pmatrix}\n",
    "           \\varepsilon & 1 & 0 \\\\\n",
    "           0 & \\cfrac{\\varepsilon - 1}{\\varepsilon} & 1 \\\\\n",
    "           0 & 0 & \\cfrac{-1}{\\varepsilon - 1}\n",
    "     \\end{pmatrix}$"
   ]
  },
  {
   "cell_type": "markdown",
   "metadata": {},
   "source": [
    "**P1.2.2**\n",
    "\n",
    "For example, when calculating the first column of the matrix $L$ **without pivoting**, we will encounter the division of element $l_{21}$ by $|\\varepsilon| \\ll 1$. This entails inaccuracy due to subnormal numbers problem in computing arithmetic."
   ]
  },
  {
   "cell_type": "markdown",
   "metadata": {},
   "source": [
    "### 3. Block LU (10 pts)\n",
    "\n",
    "Let $A = \\begin{bmatrix} A_{11} & A_{12} \\\\ A_{21} & A_{22} \\end{bmatrix}$ be a block matrix. The goal is to solve the linear system\n",
    "\n",
    "$$\n",
    "     \\begin{bmatrix} A_{11} & A_{12} \\\\ A_{21} & A_{22} \\end{bmatrix} \\begin{bmatrix} u_1 \\\\ u_2 \\end{bmatrix} = \\begin{bmatrix} f_1 \\\\ f_2 \\end{bmatrix}.\n",
    "$$\n",
    "\n",
    "* (2 pts) Using block elimination find matrix $S$ and right-hand side $\\hat{f_2}$ so that $u_2$ can be found from $S u_2 = \\hat{f_2}$. Note that the matrix $S$ is called <font color='red'> Schur complement </font> of the block $A_{11}$.\n",
    "* (4 pts) Using Schur complement properties prove that \n",
    "\n",
    "$$\\det(X+AB) = \\det(X)\\det(I+BX^{-1}A), $$\n",
    "\n",
    "\n",
    "where $X$ - nonsingular square matrix.\n",
    "* (4 pts) Let matrix $F \\in \\mathbb{R}^{m \\times n}$ and $G \\in \\mathbb{R}^{n \\times m}$. Prove that \n",
    "\n",
    "$$\\det(I_m - FG) = \\det(I_n - GF).$$"
   ]
  },
  {
   "cell_type": "markdown",
   "metadata": {},
   "source": [
    "**P1.3.1**\n",
    "\n",
    "Let's consider the relationship between the original matrix and its LU-decomposition in **block form**:\n",
    "\n",
    "$A = \\begin{pmatrix}\n",
    "           A_{11} & A_{12} \\\\\n",
    "           A_{21} & A_{22}\n",
    "     \\end{pmatrix} = \\begin{pmatrix}\n",
    "           L_{11} & 0 \\\\\n",
    "           L_{21} & L_{22}\n",
    "     \\end{pmatrix} \\cdot \\begin{pmatrix}\n",
    "           U_{11} & U_{12} \\\\\n",
    "           0 & U_{22}\n",
    "     \\end{pmatrix}$\n",
    "\n",
    "* $A_{11} = L_{11}U_{11}$ - LU-decomposition of $A_{11}$\n",
    "* $L_{21}$ and $U_{12}$ can be found from $L_{11}U_{12} = A_{12}$ and $L_{21}U_{11} = A_{21}$\n",
    "* Then $\\tilde A_{22} = L_{22}U_{22} = A_{22} - L_{21}U_{12} = A_{22} - (A_{21}U_{11}^{-1})(L_{11}^{-1}A_{12}) = A_{22} - A_{21}(L_{11}U_{11})^{-1}A_{12} = A_{22} - A_{21}A_{11}^{-1}A_{12}$ - LU-decomposition of $\\tilde A_{22}$\n",
    "\n",
    "From $u_1 = A_{11}^{-1}f_1 - A_{11}^{-1}A_{12}u_2$ we have:\n",
    "\n",
    "$\\tilde A_{22}u_2 = f_2 - A_{21}A_{11}^{-1}f_1$, i.e. $S = \\tilde A_{22}$ and $\\hat f_2 = f_2 - A_{21}A_{11}^{-1}f_1$"
   ]
  },
  {
   "cell_type": "markdown",
   "metadata": {},
   "source": [
    "**P1.3.2**\n",
    "\n",
    "Notice, that:\n",
    "\n",
    "* $\\det \\begin{pmatrix}\n",
    "           A & B \\\\\n",
    "           C & D\n",
    "     \\end{pmatrix} = \\det \\begin{pmatrix}\n",
    "           A & B \\\\\n",
    "           C & D\n",
    "     \\end{pmatrix} \\cdot \\det \\begin{pmatrix}\n",
    "           I & -A^{-1}B \\\\\n",
    "           0 & I\n",
    "     \\end{pmatrix} = \\det \\begin{pmatrix}\n",
    "           A & 0 \\\\\n",
    "           C & D - CA^{-1}B\n",
    "     \\end{pmatrix} = \\det(A)\\det(D - CA^{-1}B)\\quad$ **(1)**\n",
    "\n",
    "\n",
    "* $\\det \\begin{pmatrix}\n",
    "           A & B \\\\\n",
    "           C & D\n",
    "     \\end{pmatrix} = \\det \\begin{pmatrix}\n",
    "           A & B \\\\\n",
    "           C & D\n",
    "     \\end{pmatrix} \\cdot \\det \\begin{pmatrix}\n",
    "           I & 0 \\\\\n",
    "           -D^{-1}C & I\n",
    "     \\end{pmatrix} = \\det \\begin{pmatrix}\n",
    "           A - BD^{-1}C & B \\\\\n",
    "           0 & D\n",
    "     \\end{pmatrix} = \\det(D)\\det(A - BD^{-1}C)\\quad$ **(2)**\n",
    "     \n",
    "\n",
    "Then, $\\det(X + AB) = \\det(I)\\det(X + AIB) =^{(1)} \\det \\begin{pmatrix}\n",
    "                                                          I & B \\\\\n",
    "                                                          -A & X\n",
    "                                                        \\end{pmatrix} =^{(2)} \\det(X)\\det(I + BX^{-1}A)$"
   ]
  },
  {
   "cell_type": "markdown",
   "metadata": {},
   "source": [
    "**P1.3.3**\n",
    "\n",
    "$\\det(I_m - FG) = \\det(I_n)\\det(I_m - FI_nG) =^{(1)} \\det \\begin{pmatrix}\n",
    "                                                            I_n & G \\\\\n",
    "                                                            F & I_m\n",
    "                                                          \\end{pmatrix} =^{(2)} \\det(I_m)\\det(I_n - GI_mF) = \n",
    "                                                          \\det(I_n - GF)$"
   ]
  },
  {
   "cell_type": "markdown",
   "metadata": {
    "slideshow": {
     "slide_type": "fragment"
    }
   },
   "source": [
    "## Problem 2 (QR decomposition) 30 pts\n",
    "\n",
    "### 1. Standard Gram-Schmidt algorithm (18 pts)\n",
    "Our goal is to orthogonalize a system of linearly independent vectors $v_1,\\dots,v_n$.\n",
    "The standard algorithm for this task is the Gram-Schmidt process:\n",
    "\n",
    "$$\n",
    "\\begin{split}\n",
    "u_1 &= v_1, \\\\\n",
    "u_2 &= v_2 - \\frac{(v_2, u_1)}{(u_1, u_1)} u_1, \\\\\n",
    "\\dots \\\\\n",
    "u_n &= v_n - \\frac{(v_n, u_1)}{(u_1, u_1)} u_1 - \\frac{(v_n, u_2)}{(u_2, u_2)} u_2 - \\dots - \\frac{(v_n, u_{n-1})}{(u_{n-1}, u_{n-1})} u_{n-1}.\n",
    "\\end{split}\n",
    "$$\n",
    "\n",
    "Obtained $u_1, \\dots, u_n$ are orthogonal vectors in exact arithmetics. Then to make the system orthonormal you should divide each of the vectors by its norm: $u_i := u_i/\\|u_i\\|$.\n",
    "The Gram-Schmidt process can be considered as a QR decomposition. Let us show that."
   ]
  },
  {
   "cell_type": "markdown",
   "metadata": {},
   "source": [
    "* (2 pts) Write out what is matrices $Q$ and $R$ obtained in the process above. \n",
    "\n",
    "* (5 pts) Implement the described Gram-Schmidt algorithm as a function ```gram_schmidt_qr(A)``` that takes a rectangular matrix ```A``` and outputs ```Q,R```.\n",
    "\n",
    "* (3 pts) Create a rectangular matrix $K = [x, Ax, A^2x, \\ldots, A^kx]$ where $A \\in \\mathbb{R}^{100 \\times 100}$ is a random matrix and $x$ is a random vector of the appropriate dimension, $k = 20$.  \n",
    "The loss of orthogonality can be described by the following error: $\\|Q^{\\top}Q-I\\|_2$, where $Q^{\\top}Q$ is called a Gram matrix. Compute QR decomposition of the created matrix $K$ with function that you have implemented and calculate error $\\|Q^{\\top}Q-I\\|_2$. Comment on the result.\n",
    "\n",
    "* (5 pts) The observed loss of orthogonality is a problem of this particular algorithm. Luckily, there is [a simple improvement to the algorithm above](https://en.wikipedia.org/wiki/Gram–Schmidt_process#Numerical_stability) that reduces the loss of orthogonality. Implement this modification as a function ```modified_gram_schmidt_qr(A)``` such that input and output are similar to ```gram_schmidt_qr(A)```. \n",
    "* (3 pts) Compute QR decomposition of the matrix $K$ from the previous task with the function ```modified_gram_schmidt_qr(A)```.\n",
    "Compute error $\\|Q^{\\top}Q-I\\|_2$. Compare this error to the error obtained with a \"pure\" Gram-Schmidt and comment on the result."
   ]
  },
  {
   "cell_type": "markdown",
   "metadata": {},
   "source": [
    "**P2.1.1**\n",
    "\n",
    "* For matrix $A_{m\\times n} = \\begin{pmatrix}\n",
    "                               a_1|\\; a_2| \\dots|\\; a_n\n",
    "                            \\end{pmatrix}$\n",
    "\n",
    "  Matrix $Q_{m\\times m} = \\begin{pmatrix}\n",
    "                             u_1|\\; u_2| \\dots|\\; u_m\n",
    "                           \\end{pmatrix}$ and matrix $R_{m\\times n} = Q^*A$\n",
    "  are **unitary(orthogonal)** and **upper-triangular** matrices.\n",
    "  \n",
    "  P.S.: in case $m > n$ we complement the already orthogonalized vectors $(m - n)$ pairwise orthogonal vectors to the basis.\n",
    "\n",
    "\n",
    "* **OR** $Q = \\begin{pmatrix}\n",
    "               u_1|\\; u_2| \\dots|\\; u_n\n",
    "            \\end{pmatrix}$ for $m \\ge n$ and $Q = \\begin{pmatrix}\n",
    "                                                     u_1|\\; u_2| \\dots|\\; u_m\n",
    "                                                  \\end{pmatrix}$ for $m < n$\n",
    " **AND** matrix $R = Q^*A$ (If we want decompositions such as in file `decompositions.pdf`: $A = Q_{m\\times n}R_{n\\times n}$ for $m \\ge n$ and $A = Q_{m\\times m}R_{m\\times n}$ for $m < n$ for rectangular matrices)"
   ]
  },
  {
   "cell_type": "code",
   "execution_count": 8,
   "metadata": {},
   "outputs": [],
   "source": [
    "def proj(a, e):\n",
    "    return e * np.dot(a.T, e)"
   ]
  },
  {
   "cell_type": "code",
   "execution_count": 9,
   "metadata": {},
   "outputs": [],
   "source": [
    "# INPUT : rectangular matrix A\n",
    "# OUTPUT: matrices Q - orthogonal and R - upper triangular such that A = QR\n",
    "def gram_schmidt_qr(A): # 5 pts\n",
    "    # your code is here\n",
    "    Q = A.copy()\n",
    "    if A.shape[0] < A.shape[1]:\n",
    "        Q = Q[:, :A.shape[0]]\n",
    "\n",
    "    Q[:, 0] /= np.linalg.norm(Q[:, 0])\n",
    "    for j in range(1, Q.shape[1]):\n",
    "        for k in range(0, j):\n",
    "            Q[:, j] -= proj(A[:, j], Q[:, k])\n",
    "        Q[:, j] /= np.linalg.norm(Q[:, j])\n",
    "\n",
    "    return Q, np.dot(Q.T, A)\n",
    "\n",
    "# INPUT : rectangular matrix A\n",
    "# OUTPUT: matrices Q - orthogonal and R - upper triangular such that A = QR\n",
    "def modified_gram_schmidt_qr(A): # 5 pts\n",
    "    # your code is here\n",
    "    Q = A.copy()\n",
    "    if A.shape[0] < A.shape[1]:\n",
    "        Q = Q[:, :A.shape[0]]\n",
    "\n",
    "    Q[:, 0] /= np.linalg.norm(Q[:, 0])\n",
    "    for j in range(1, Q.shape[1]):\n",
    "        for k in range(0, j):\n",
    "            Q[:, j] -= proj(Q[:, j], Q[:, k])\n",
    "        Q[:, j] /= np.linalg.norm(Q[:, j])\n",
    "\n",
    "    return Q, np.dot(Q.T, A)"
   ]
  },
  {
   "cell_type": "code",
   "execution_count": 10,
   "metadata": {},
   "outputs": [],
   "source": [
    "k = 20\n",
    "\n",
    "A = np.matrix(np.random.rand(100, 100), dtype=np.float32)\n",
    "x = np.matrix(np.random.rand(100, 1), dtype=np.float32)\n",
    "\n",
    "K = x\n",
    "for i in range(1, k + 1):\n",
    "    K = np.hstack([K, np.dot(A, K[:, K.shape[1]-1])])"
   ]
  },
  {
   "cell_type": "code",
   "execution_count": 11,
   "metadata": {},
   "outputs": [
    {
     "name": "stdout",
     "output_type": "stream",
     "text": [
      "loss of orthogonality is 8.70156158900179\n"
     ]
    }
   ],
   "source": [
    "Q, _ = gram_schmidt_qr(K)\n",
    "orthogonality_loss = np.linalg.norm(np.dot(Q.T, Q) - np.eye(Q.shape[1]), ord=2)\n",
    "print('loss of orthogonality is', orthogonality_loss)"
   ]
  },
  {
   "cell_type": "markdown",
   "metadata": {},
   "source": [
    "**P2.1.3**\n",
    "\n",
    "We can see that the norm increases with the size of the submatrix under consideration, which is a consequence of the **instability** of this orthogonalization algorithm."
   ]
  },
  {
   "cell_type": "code",
   "execution_count": 12,
   "metadata": {},
   "outputs": [
    {
     "name": "stdout",
     "output_type": "stream",
     "text": [
      "number of orthogonilized vectors: 1 => loss of orthogonality is 1.7881393432617188e-07\n",
      "number of orthogonilized vectors: 2 => loss of orthogonality is 4.761406211498666e-07\n",
      "number of orthogonilized vectors: 3 => loss of orthogonality is 8.894516904353886e-06\n",
      "number of orthogonilized vectors: 4 => loss of orthogonality is 0.004200062977466898\n",
      "number of orthogonilized vectors: 5 => loss of orthogonality is 0.823973780031324\n",
      "number of orthogonilized vectors: 6 => loss of orthogonality is 1.7677393675464086\n",
      "number of orthogonilized vectors: 7 => loss of orthogonality is 2.742233238751535\n",
      "number of orthogonilized vectors: 8 => loss of orthogonality is 3.7279124646808315\n",
      "number of orthogonilized vectors: 9 => loss of orthogonality is 4.71878854649001\n",
      "number of orthogonilized vectors: 10 => loss of orthogonality is 5.712480213398298\n",
      "number of orthogonilized vectors: 11 => loss of orthogonality is 6.707862888494391\n",
      "number of orthogonilized vectors: 12 => loss of orthogonality is 7.7043386609325335\n",
      "number of orthogonilized vectors: 13 => loss of orthogonality is 8.70156158900179\n",
      "number of orthogonilized vectors: 14 => loss of orthogonality is 8.70156158900179\n",
      "number of orthogonilized vectors: 15 => loss of orthogonality is 8.70156158900179\n",
      "number of orthogonilized vectors: 16 => loss of orthogonality is 8.70156158900179\n",
      "number of orthogonilized vectors: 17 => loss of orthogonality is 8.70156158900179\n",
      "number of orthogonilized vectors: 18 => loss of orthogonality is 8.70156158900179\n",
      "number of orthogonilized vectors: 19 => loss of orthogonality is 8.70156158900179\n",
      "number of orthogonilized vectors: 20 => loss of orthogonality is 8.70156158900179\n"
     ]
    }
   ],
   "source": [
    "for i in range (1, k + 1):\n",
    "    orthogonality_loss = np.linalg.norm(np.dot(Q.T, Q)[:i, :i] - np.eye(i), ord=2)\n",
    "    print('number of orthogonilized vectors:', i, '=> loss of orthogonality is', orthogonality_loss)"
   ]
  },
  {
   "cell_type": "code",
   "execution_count": 13,
   "metadata": {},
   "outputs": [
    {
     "name": "stdout",
     "output_type": "stream",
     "text": [
      "loss of orthogonality is 1.0\n"
     ]
    }
   ],
   "source": [
    "Q, _ = modified_gram_schmidt_qr(K)\n",
    "orthogonality_loss = np.linalg.norm(np.dot(Q.T, Q) - np.eye(Q.shape[1]), ord=2)\n",
    "print('loss of orthogonality is', orthogonality_loss)"
   ]
  },
  {
   "cell_type": "markdown",
   "metadata": {},
   "source": [
    "**P2.1.5**\n",
    "\n",
    "We can see that the the numerical error in orthogonalization has become smaller since $k = 3$."
   ]
  },
  {
   "cell_type": "code",
   "execution_count": 14,
   "metadata": {},
   "outputs": [
    {
     "name": "stdout",
     "output_type": "stream",
     "text": [
      "number of orthogonilized vectors: 1 => loss of orthogonality is 1.7881393432617188e-07\n",
      "number of orthogonilized vectors: 2 => loss of orthogonality is 4.761406211498666e-07\n",
      "number of orthogonilized vectors: 3 => loss of orthogonality is 3.890271040636661e-06\n",
      "number of orthogonilized vectors: 4 => loss of orthogonality is 5.735605577844066e-05\n",
      "number of orthogonilized vectors: 5 => loss of orthogonality is 0.00041091726167926155\n",
      "number of orthogonilized vectors: 6 => loss of orthogonality is 0.007792855898075565\n",
      "number of orthogonilized vectors: 7 => loss of orthogonality is 0.03714319873461425\n",
      "number of orthogonilized vectors: 8 => loss of orthogonality is 0.4539900733519972\n",
      "number of orthogonilized vectors: 9 => loss of orthogonality is 0.47899274103746925\n",
      "number of orthogonilized vectors: 10 => loss of orthogonality is 0.6844190113543733\n",
      "number of orthogonilized vectors: 11 => loss of orthogonality is 0.7609570345223355\n",
      "number of orthogonilized vectors: 12 => loss of orthogonality is 0.8079962766895897\n",
      "number of orthogonilized vectors: 13 => loss of orthogonality is 0.8147622492620605\n",
      "number of orthogonilized vectors: 14 => loss of orthogonality is 0.849769503724464\n",
      "number of orthogonilized vectors: 15 => loss of orthogonality is 0.8504272119880236\n",
      "number of orthogonilized vectors: 16 => loss of orthogonality is 0.857872189805247\n",
      "number of orthogonilized vectors: 17 => loss of orthogonality is 1.0\n",
      "number of orthogonilized vectors: 18 => loss of orthogonality is 1.0\n",
      "number of orthogonilized vectors: 19 => loss of orthogonality is 1.0\n",
      "number of orthogonilized vectors: 20 => loss of orthogonality is 1.0\n"
     ]
    }
   ],
   "source": [
    "for i in range (1, k + 1):\n",
    "    orthogonality_loss = np.linalg.norm(np.dot(Q.T, Q)[:i, :i] - np.eye(i), ord=2)\n",
    "    print('number of orthogonilized vectors:', i, '=> loss of orthogonality is', orthogonality_loss)"
   ]
  },
  {
   "cell_type": "markdown",
   "metadata": {},
   "source": [
    "### 2. Updating QR decompositions (12 pts)\n",
    "\n",
    "Suppose we are dealing with overdetermined system:\n",
    "\n",
    "$$ Ax = y, \\;\\; A \\in \\mathbb{R}^{m \\times n}, \\;\\;  m \\geq n. $$\n",
    "\n",
    "If you were attentive during the course, you should be aware of \n",
    "the canonical way to solve this system. \n",
    "\n",
    "- No, implementing **Householder $QR$** will not be your task :)\n",
    "\n",
    "- We assume that $QR$ decomposition of $A$ **is given**:\n",
    "\n",
    "$$ QR = A = \\begin{bmatrix}a_1 & a_2 & \\ldots & a_n \\end{bmatrix}, \\;\\; a_i \\in \\mathbb{R}^m,$$\n",
    "\n",
    "where $Q \\in \\mathbb{R}^{m \\times m}$ is unitary matrix and $R \\in \\mathbb{R}^{m \\times n}$ is upper triangular.\n",
    "\n",
    "- Let $k$ be an arbitrary column index, $1 \\leq k \\leq n$, and $z \\in \\mathbb{R}^{m}$ be an arbitrary vector.\n",
    "\n",
    "We are interested in matrices:\n",
    "\n",
    "$$ \\tilde{A} = \\begin{bmatrix}a_1 & \\ldots & a_{k-1} & a_{k+1} & \\ldots a_n \\end{bmatrix} \\in \\mathbb{R}^{m \\times (n-1)},$$\n",
    "\n",
    "and:\n",
    "\n",
    "$$ \\hat{A} = \\begin{bmatrix}a_1 & \\ldots & a_{k} & z & a_{k+1} & \\ldots a_n \\end{bmatrix} \\in \\mathbb{R}^{m \\times (n+1)},$$\n",
    "\n",
    "which are obtained by deleting / inserting one column from / to the matrix $A$.\n",
    "\n",
    "For example, if $A$ comes from a least-squares problem, such matrices appear if one wants to examine the significance of the $k^{th}$ parameter in the underlying model (e.g. think in terms of linear regression).\n",
    "\n",
    "- We want to compute decompostions of these updated matrices:\n",
    "\n",
    "$$ \\tilde{A} = \\tilde{Q}\\tilde{R}, \\;\\; \\hat{A} = \\hat{Q}\\hat{R}. $$\n",
    "\n",
    "Performing full orthogonalization process will be redundant. Instead, the known $QR$ factors of $A$ should be **updated** in a proper way.\n",
    "\n",
    "- Different methods for performing $QR$ decomposition were studied during the course. We expect the factors of updated matrices can be recovered with a small number of selective updates, hence the **Givens rotations** seem to be the most appropriate.\n",
    "\n",
    "- Recall the Givens rotation matrix :\n",
    "\n",
    "$$G_{ij}(\\theta) = \\begin{bmatrix} \n",
    "1      & \\ldots & 0      & \\ldots & 0      & \\ldots & 0      \\\\\n",
    "\\vdots & \\ddots & \\vdots &        & \\vdots &        & \\vdots \\\\\n",
    "0      & \\ldots & c      & \\ldots & s      & \\ldots & 0      \\\\\n",
    "\\vdots &        & \\vdots & \\ddots & \\vdots &        & \\vdots \\\\\n",
    "0      & \\ldots & -s     & \\ldots & c      & \\ldots & 0      \\\\\n",
    "\\vdots &        & \\vdots &        & \\vdots & \\ddots & \\vdots \\\\\n",
    "0      & \\ldots & 0      & \\ldots & 0      & \\ldots & 1      \n",
    "\\end{bmatrix}  \\;\\; \\in \\mathbb{R}^{m \\times m}, \\;\\; c = \\cos \\theta, \\;\\; s = \\sin \\theta,$$ \n",
    "\n",
    "which differs from the identity $\\mathrm{I}^{m \\times m}$ by a $2 \\times 2$ sub-matrix:\n",
    "\n",
    "$$\n",
    "{G}(\\theta) = \\begin{bmatrix} c & s \\\\ -s & c \\end{bmatrix} \\in \\mathbb{R}^{2 \\times 2},\n",
    "$$\n",
    "placed on the rows and columns with indices $i$ and $j$. \n",
    "\n",
    "1. (1 pts)\n",
    "Matrix ${G}$ has clear geometric interpretation in 2 dimensions. Let  $a = \\begin{pmatrix} a_1 \\\\ a_2 \\end{pmatrix} \\in \\mathbb{R}^2$ be an arbitrary non-zero vector. According to the template provided below, implement the function to construct matrix $G$, such that:\n",
    "\n",
    "$$ {G}^T \\begin{pmatrix} a_1 \\\\ a_2 \\end{pmatrix} = \\begin{pmatrix} \\alpha \\\\ 0 \\end{pmatrix}.$$\n",
    "\n",
    "What are geometrical meanings of $\\alpha$ and $\\theta$? \n"
   ]
  },
  {
   "cell_type": "code",
   "execution_count": 15,
   "metadata": {},
   "outputs": [
    {
     "data": {
      "text/plain": [
       "array([ 8.17091711e-01, -1.38597813e-08])"
      ]
     },
     "execution_count": 15,
     "metadata": {},
     "output_type": "execute_result"
    }
   ],
   "source": [
    "def givens(a):\n",
    "    '''\n",
    "    Input: \n",
    "        a: np.array of size (2)\n",
    "    Output: \n",
    "        G: np.array of size (2, 2)\n",
    "            Rotation matrix, G^T eliminates the second component of a\n",
    "    '''\n",
    "\n",
    "    # Your code is here\n",
    "    cos_theta = a[0]/np.linalg.norm(a)\n",
    "    sin_theta = -a[1]/np.linalg.norm(a)\n",
    "    \n",
    "    G = np.array([[cos_theta, sin_theta], [-sin_theta, cos_theta]], dtype=np.float32)\n",
    "    \n",
    "    return G\n",
    "    \n",
    "# Check yourself\n",
    "a = np.random.rand(2)\n",
    "givens(a).T.dot(a)"
   ]
  },
  {
   "cell_type": "markdown",
   "metadata": {},
   "source": [
    "- Similarly, matrix $G_{ij}$ can be constructed in order to eliminate the $j^{th}$ component of an arbitrary vector of size $m$. This leads to the well-known **Givens $QR$ algorithm** (see lecture notes!).\n",
    "\n",
    "- Givens rotations typically appear in matrix form:\n",
    "\n",
    "$$ G_{ij}^T X, \\;\\; X^{'}G_{ij},$$\n",
    "\n",
    "where $X$ and $X^{'}$ are some matrices with compatible sizes, e.g. intermediate factors in the **Givens $QR$ algorithm**. \n",
    "\n",
    "How to perform these multiplications efficiently? \n",
    "Obviously, $G_{ij}$ does not need to be stored in explicit form. It affects only two rows / columns, hence only appropriate submatrices should be modified.\n",
    "\n",
    "2. (5 pts) Your second task is to propose an efficient procedure for computing $\\tilde{Q}, \\tilde{R}$ factors of $\\tilde{A}$ by a proper update of $Q, R$ factors of $A$. \n",
    "\n",
    "Hint: consider the following block partition of $R$ (assuming $k^{th}$ column deleted):\n",
    "$$ R = \n",
    "\\begin{bmatrix} \n",
    "R_{11} & v & R_{13} \\\\\n",
    "0 & r_{kk} & \\omega^T \\\\\n",
    "0 & 0 & R^{33}\n",
    "\\end{bmatrix},\n",
    "$$\n",
    "and note, that:\n",
    "$$Q^T\\tilde{A} = \n",
    "\\begin{bmatrix}\n",
    "R_{11} & R_{13} \\\\\n",
    "0 & \\omega^T \\\\\n",
    "0 & R_{33}\n",
    "\\end{bmatrix} = H.$$\n",
    "\n",
    "- (2 pts) What structure has matrix $H$ and how does it help in understanding the proper way to compute updated QR decomposition?\n",
    "\n",
    "- (3 pts) Implement the function according to the template provided below.\n",
    "Use Givens matrices $G_{ij}$ with $j = i+1$ for the convinience.\n",
    "\n",
    "- Only one loop over non-zero subdiagonal elements of $H$ is allowed. You are supposed to perform computations in a proper vectorized form. For example, the *in-place* multiplication $G_{ij}^T X$ with a random matrix $X \\in \\mathbb{R}^{m \\times n}$ can be implemented as follows: ```X[[i,j],:] = G.T.dot(X[[i,j],:])```. \n",
    "\n",
    "- Do not modify elements which are known to be zero.\n"
   ]
  },
  {
   "cell_type": "markdown",
   "metadata": {},
   "source": [
    "**P2.2.2.1**\n",
    "\n",
    "$H$ is almost upper-triangular matrix. So, we need to make the diagonal elements of the $R_{33}$ matrix are equal to zero! \n",
    "\n",
    "(i.e we need to make upper-triangular matrix from $\\begin{bmatrix} \n",
    "                                                     w^T \\\\\n",
    "                                                     R_{33}\n",
    "                                                   \\end{bmatrix}$, where $R_{33}$ is upper-triangular matrix)."
   ]
  },
  {
   "cell_type": "code",
   "execution_count": 16,
   "metadata": {},
   "outputs": [
    {
     "name": "stdout",
     "output_type": "stream",
     "text": [
      "8.942021118341131e-07\n"
     ]
    }
   ],
   "source": [
    "def delete_column_QR(A, k):\n",
    "    '''\n",
    "    Input: \n",
    "        A: np.array of size (m, n) \n",
    "            \n",
    "        k: positive integer\n",
    "            Index of deleted column, 0 \\leq k \\leq n - 1\n",
    "        \n",
    "    Output: \n",
    "        Q: np.array of size (m, m)\n",
    "        \n",
    "        R: np.array of size (m, n - 1)\n",
    "\n",
    "    '''\n",
    "    Q, R = np.linalg.qr(A, mode='complete') # factors of $A$ are known\n",
    "    R = np.delete(R, k, axis = 1) # delete column\n",
    "        \n",
    "    # Your code is here\n",
    "    for i in range(k, R.shape[1] - 1):\n",
    "        j = i + 1\n",
    "        if R[[i, j], :][:, i][1] == 0:\n",
    "            break\n",
    "        G = givens(R[[i, j], :][:, i])\n",
    "        \n",
    "        R[[i, j], :] = np.dot(G.T, R[[i, j], :])\n",
    "        Q[:, [i, j]] = np.dot(Q[:, [i, j]], G)\n",
    "    \n",
    "    return Q, R\n",
    "\n",
    "# Check yourself\n",
    "m, n = (200, 100)\n",
    "A = np.random.rand(m, n)\n",
    "k = np.random.randint(0, n)\n",
    "A_tilde = np.delete(A, k, axis=1)\n",
    "Q_tilde, R_tilde = delete_column_QR(A, k)\n",
    "print(np.linalg.norm(A_tilde - Q_tilde.dot(R_tilde)))"
   ]
  },
  {
   "cell_type": "markdown",
   "metadata": {},
   "source": [
    "3. (3 pts) When a column is inserted, the factors $\\hat{Q}, \\hat{R}$ of $\\hat{A}$ again can be computed efficiently by a proper update of $Q, R$ factors of $A$.\n",
    "\n",
    "\n",
    "- Proceed similarly to the previous task. Implement the function according to the template provided below. \n",
    "\n",
    "- Choose optimal order of elimination to minimize the number of rotations."
   ]
  },
  {
   "cell_type": "markdown",
   "metadata": {},
   "source": [
    "**P2.2.3**\n",
    "\n",
    "Note that $Q^TA$ is equal to matrix $R$ with inserted column $Q^Tz$ in $k^{th}$ position!"
   ]
  },
  {
   "cell_type": "code",
   "execution_count": 17,
   "metadata": {},
   "outputs": [
    {
     "name": "stdout",
     "output_type": "stream",
     "text": [
      "1.3719107879516513e-06\n"
     ]
    }
   ],
   "source": [
    "def insert_column_QR(A, k, z):\n",
    "    '''\n",
    "    Input: \n",
    "        A: np.array of size (m, n) \n",
    "            \n",
    "        k: positive integer\n",
    "            Index of inserted column, 0 \\leq k leq n - 1\n",
    "            \n",
    "        z: np.array of size (m)\n",
    "            Inserted column\n",
    "        \n",
    "    Output: \n",
    "        Q: np.array of size (m, m)\n",
    "        \n",
    "        R: np.array of size (m, n + 1)\n",
    "    '''\n",
    "    Q, R = np.linalg.qr(A, mode='complete') # factors of $A$ are known\n",
    "\n",
    "    # Your code is here\n",
    "    R = np.insert(R, k, np.dot(Q.T, z), axis=1) # insert column\n",
    "    \n",
    "    for i in range(R.shape[0] - 2, k - 1, -1):\n",
    "        j = i + 1\n",
    "        if R[[i, j], :][:, k][1] == 0:\n",
    "            break\n",
    "        G = givens(R[[i, j], :][:, k])\n",
    "        \n",
    "        R[[i, j], :] = np.dot(G.T, R[[i, j], :])\n",
    "        Q[:, [i, j]] = np.dot(Q[:, [i, j]], G)\n",
    "    \n",
    "    return Q, R\n",
    "\n",
    "# Check yourself\n",
    "m, n = (200, 100)\n",
    "A = np.random.rand(m, n)\n",
    "k = np.random.randint(0, n)\n",
    "z = np.random.rand(m)\n",
    "A_hat = np.insert(A, k, z, axis=1)\n",
    "Q_hat, R_hat = insert_column_QR(A, k, z)\n",
    "print(np.linalg.norm(A_hat - Q_hat.dot(R_hat)))"
   ]
  },
  {
   "cell_type": "markdown",
   "metadata": {},
   "source": [
    "4. (3 pts) In the context of least-squares problems, appending rows to a matrix is just as important as inserting columns (e.g. new samples in linear regression).\n",
    "\n",
    "Consider matrix:\n",
    "\n",
    "$$ \\overline{A} = \\begin{bmatrix} \\omega^T \\\\ A \\end{bmatrix} \\in \\mathbb{R}^{(m+1) \\times n},$$\n",
    "\n",
    "which is obtained by appending a row $\\omega^T \\in \\mathbb{R}^{n}$ to the matrix $A$.\n",
    "\n",
    "Similarly to the previous tasks, you need to compute $\\overline{Q}, \\overline{R}$ factors of $\\overline{A}$ by a proper update of $Q,R$ factors of $A$.\n",
    "\n",
    "- Implement the function according to the template provided below. Your code is still expected to be efficient!"
   ]
  },
  {
   "cell_type": "markdown",
   "metadata": {},
   "source": [
    "**P2.2.4**\n",
    "\n",
    "Let $\\overline{Q}^T = \\begin{bmatrix} \n",
    "                         1 & 0 \\\\\n",
    "                         0 & Q^T\n",
    "                      \\end{bmatrix}$. Obviously that $\\overline{Q}$ is orthogonal.\n",
    "                      \n",
    "Then $\\overline{Q}^T\\overline{A} = \\begin{bmatrix} \n",
    "                                      w^T \\\\\n",
    "                                      Q^TA\n",
    "                                   \\end{bmatrix} = \\begin{bmatrix} \n",
    "                                                      w^T \\\\\n",
    "                                                      R\n",
    "                                                   \\end{bmatrix}$"
   ]
  },
  {
   "cell_type": "code",
   "execution_count": 18,
   "metadata": {},
   "outputs": [
    {
     "name": "stdout",
     "output_type": "stream",
     "text": [
      "3.675218447486939e-06\n"
     ]
    }
   ],
   "source": [
    "def insert_row_QR(A, w):\n",
    "    '''\n",
    "    Input: \n",
    "        A: np.array of size (m, n)\n",
    "\n",
    "        w: np.array of size (n)\n",
    "            Inserted row\n",
    "        \n",
    "    Output:\n",
    "        Q: np.array of size (m + 1, m + 1)\n",
    "        \n",
    "        R: np.array of size (m + 1, n)\n",
    "    '''\n",
    "    Q, R = np.linalg.qr(A, mode='complete')\n",
    "\n",
    "    # Your code is here\n",
    "    Q = np.insert(Q, 0, np.zeros((1, Q.shape[1])), axis=0)\n",
    "    Q = np.insert(Q, 0, np.eye(Q.shape[0], 1).flatten(), axis=1)\n",
    "    \n",
    "    R = np.insert(R, 0, w, axis=0)\n",
    "    \n",
    "    for i in range(0, R.shape[1] - 1):\n",
    "        j = i + 1\n",
    "        if R[[i, j], :][:, i][1] == 0:\n",
    "            break\n",
    "        G = givens(R[[i, j], :][:, i])\n",
    "        \n",
    "        R[[i, j], :] = np.dot(G.T, R[[i, j], :])\n",
    "        Q[:, [i, j]] = np.dot(Q[:, [i, j]], G)\n",
    "    \n",
    "    return Q, R\n",
    "\n",
    "# Check yourself\n",
    "m, n = (200, 100)\n",
    "A = np.random.rand(m, n)\n",
    "w = np.random.rand(n)\n",
    "A_overline = np.insert(A, 0, w, axis=0)\n",
    "Q_overline, R_overline = insert_row_QR(A, w)\n",
    "print(np.linalg.norm(A_overline - Q_overline.dot(R_overline)))"
   ]
  },
  {
   "cell_type": "markdown",
   "metadata": {},
   "source": [
    "## Problem 3 (Word2Vec as Matrix Factorization) 45 pts\n",
    "\n",
    "In this assignment you are supposed to apply SVD to training your own [word embedding model](https://en.wikipedia.org/wiki/Word_embedding) which maps English words to vectors of real numbers.\n",
    "\n",
    "Skip-Gram Negative Sampling (SGNS) word embedding model, commonly known as **word2vec** ([Mikolov et al., 2013](http://papers.nips.cc/paper/5021-distributed-representations-of-words-and-phrases-and-their-compositionality.pdf)), is usually optimized by stochastic gradient descent. However, the optimization of SGNS objective can be viewed as implicit matrix factorization objective as was shown in ([Levy and Goldberg, 2015](http://papers.nips.cc/paper/5477-neural-word-embedding-as-implicit-matrix-factorization.pdf))."
   ]
  },
  {
   "cell_type": "markdown",
   "metadata": {},
   "source": [
    "###### 1. Notation\n",
    "Assume we have a text corpus given as a sequence of words $\\{w_1,w_2,\\dots,w_n\\}$ where $n$ may be larger than $10^{12}$ and $w_i \\in \\mathcal{V}$ belongs to a vocabulary of words $\\mathcal{V}$. A word $c \\in \\mathcal{V}$ is called *a context* of word $w_i$ if they are found together in the text. More formally, given some measure $L$ of closeness between two words (typical choice is $L=2$), a word $c \\in \\mathcal{V}$ is called a context if $c \\in \\{w_{i-L}, \\dots, w_{i-1}, w_{i+1}, \\dots, w_{i+L} \\}$ Let $\\mathbf{w},\\mathbf{c}\\in\\mathbb{R}^d$ be the *word embeddings* of word $w$ and context $c$, respectively. Assume they are specified by the mapping  $\\Phi:\\mathcal{V}\\rightarrow\\mathbb{R}^d$, so $\\mathbf{w}=\\Phi(w)$. The ultimate goal of SGNS word embedding model is to fit a good mapping $\\Phi$.\n",
    "\n",
    "Let $\\mathcal{D}$ be a multiset of all word-contexts pairs observed in the corpus. In the SGNS model, the probability that word-context pair $(w,c)$ is observed in the corpus is modeled as the following distribution:\n",
    "\n",
    "$$\n",
    "P(\\#(w,c)\\neq 0|w,c) = \\sigma(\\mathbf{w}^\\top \\mathbf{c}) = \\frac{1}{1 + \\exp(-\\mathbf{w}^\\top \\mathbf{c})},\n",
    "$$\n",
    "\n",
    "where $\\#(w,c)$ is the number of times the pair $(w,c)$ appears in $\\mathcal{D}$ and $\\mathbf{w}^\\top\\mathbf{c}$ is the scalar product of vectors $\\mathbf{w}$ and $\\mathbf{c}$. Two important quantities which we will also use further are the number of times the word $w$ and the context $c$ appear in $\\mathcal{D}$, which can be computed as\n",
    "\n",
    "$$\n",
    "\\#(w) = \\sum_{c\\in\\mathcal{V}} \\#(w,c), \\quad \\#(c) = \\sum_{w\\in\\mathcal{V}} \\#(w,c).\n",
    "$$\n"
   ]
  },
  {
   "cell_type": "markdown",
   "metadata": {},
   "source": [
    "###### 2. Optimization objective"
   ]
  },
  {
   "cell_type": "markdown",
   "metadata": {},
   "source": [
    "Vanilla word embedding models are trained by maximizing log-likelihood of observed word-context pairs, namely\n",
    "\n",
    "$$\n",
    "\\mathcal{L} = \\sum_{w \\in \\mathcal{V}} \\sum_{c \\in \\mathcal{V}} \\#(w,c) \\log \\sigma(\\mathbf{w}^\\top\\mathbf{c}) \\rightarrow \\max_{\\mathbf{w},\\mathbf{c} \\in \\mathbb{R}^d}.\n",
    "$$"
   ]
  },
  {
   "cell_type": "markdown",
   "metadata": {},
   "source": [
    "Skip-Gram Negative Sampling approach modifies the objective by additionally minimizing the log-likelihood of random word-context pairs, so called *negative samples*. This idea incorporates some useful linguistic information that some number ($k$, usually $k=5$) of word-context pairs *are not* found together in the corpus which usually results in word embeddings of higher quality. The resulting optimization problem is\n",
    "\n",
    "$$\n",
    "\\mathcal{L} = \\sum_{w \\in \\mathcal{V}} \\sum_{c \\in \\mathcal{V}} \\left( \\#(w,c) \\log \\sigma(\\mathbf{w}^\\top\\mathbf{c}) + k \\cdot \\mathbb{E}_{c'\\sim P_\\mathcal{D}} \\log \\sigma (-\\mathbf{w}^\\top\\mathbf{c}) \\right) \\rightarrow \\max_{\\mathbf{w},\\mathbf{c} \\in \\mathbb{R}^d},\n",
    "$$\n",
    "\n",
    "where $P_\\mathcal{D}(c)=\\frac{\\#(c)}{|\\mathcal{D}|}$ is a probability distribution over word contexts from which negative samples are drawn."
   ]
  },
  {
   "cell_type": "markdown",
   "metadata": {},
   "source": [
    "[Levy and Goldberg, 2015](http://papers.nips.cc/paper/5477-neural-word-embedding-as-implicit-matrix-factorization.pdf) showed that this objective can be equivalently written as\n",
    "\n",
    "$$\n",
    "\\mathcal{L} = \\sum_{w \\in \\mathcal{V}} \\sum_{c \\in \\mathcal{V}} f(w,c) = \\sum_{w \\in \\mathcal{V}} \\sum_{c \\in \\mathcal{V}} \\left( \\#(w,c) \\log \\sigma(\\mathbf{w}^\\top\\mathbf{c}) + \\frac{k\\cdot\\#(w)\\cdot\\#(c)}{|\\mathcal{D}|} \\log \\sigma (-\\mathbf{w}^\\top\\mathbf{c}) \\right) \\rightarrow \\max_{\\mathbf{w},\\mathbf{c} \\in \\mathbb{R}^d},\n",
    "$$\n",
    "\n",
    "A crucial observation is that this loss function depends only on the scalar product $\\mathbf{w}^\\top\\mathbf{c}$ but not on embedding $\\mathbf{w}$ and $\\mathbf{c}$ separately."
   ]
  },
  {
   "cell_type": "markdown",
   "metadata": {},
   "source": [
    "###### 3. Matrix factorization problem statement"
   ]
  },
  {
   "cell_type": "markdown",
   "metadata": {},
   "source": [
    "Let $|\\mathcal{V}|=m$, $W \\in \\mathbb{R}^{m\\times d}$ and $C \\in \\mathbb{R}^{m\\times d}$ be matrices, where each row $\\mathbf{w}\\in\\mathbb{R}^d$ of matrix $W$ is the word embedding of the corresponding word $w$ and each row $\\mathbf{c}\\in\\mathbb{R}^d$ of matrix $C$ is the context embedding of the corresponding context $c$. SGNS embeds both words and their contexts into a low-dimensional space $\\mathbb{R}^d$, resulting in the word and context matrices $W$ and $C$. The rows of matrix $W$ are typically used in NLP tasks (such as computing word similarities) while $C$ is ignored. It is nonetheless instructive to consider the product $W^\\top C = M$. Viewed this way, SGNS can be described as factorizing an implicit matrix $M$ of dimensions $m \\times m$ into two smaller matrices.\n",
    "\n",
    "Which matrix is being factorized? A matrix entry $M_{wc}$ corresponds to the dot product $\\mathbf{w}^\\top\\mathbf{c}$ . Thus, SGNS is factorizing a matrix in which each row corresponds to a word $w \\in \\mathcal{V}$ , each column corresponds to a context $c \\in \\mathcal{V}$, and each cell contains a quantity $f(w,c)$ reflecting the strength of association between that particular word-context pair. Such word-context association matrices are very common in the NLP and word-similarity literature. That said, the objective of SGNS does not explicitly state what this association metric is. What can we say about the association function $f(w,c)$? In other words, which matrix is SGNS factorizing? Below you will find the answers."
   ]
  },
  {
   "cell_type": "markdown",
   "metadata": {},
   "source": [
    "### Task 1 (theoretical) 9 pts"
   ]
  },
  {
   "cell_type": "markdown",
   "metadata": {},
   "source": [
    "Solve SGNS optimization problem with respect to the $\\mathbf{w}^\\top\\mathbf{c}$ and show that the matrix being factorized is\n",
    "\n",
    "$$\n",
    "M_{wc} = \\mathbf{w}^\\top\\mathbf{c} = \\log \\left( \\frac{\\#(w,c) \\cdot |\\mathcal{D}|}{k\\cdot\\#(w)\\cdot\\#(c)} \\right)\n",
    "$$\n",
    "\n",
    "**Hint:** Denote $x=\\mathbf{w}^\\top\\mathbf{c}$, rewrite SGNG optimization problem in terms of $x$ and solve it."
   ]
  },
  {
   "cell_type": "markdown",
   "metadata": {},
   "source": [
    "**Note:** This matrix is called Shifted Pointwise Mutual Information (SPMI) matrix, as its elements can be written as\n",
    "\n",
    "$$\n",
    "\\text{SPMI}(w,c) = M_{wc} = \\mathbf{w}^\\top\\mathbf{c} = \\text{PMI}(w,c) - \\log k\n",
    "$$\n",
    "\n",
    "and $\\text{PMI}(w,c) = \\log \\left( \\frac{\\#(w,c) \\cdot |\\mathcal{D}|}{\\#(w)\\cdot\\#(c)} \\right)$ is the well-known [pointwise mutual information](https://en.wikipedia.org/wiki/Pointwise_mutual_information) of $(w,c)$."
   ]
  },
  {
   "cell_type": "markdown",
   "metadata": {},
   "source": [
    "**P3.1**\n",
    "\n",
    "* Note that $\\bigl[\\sigma(x)\\bigr]^{'}_x = \\biggl[\\cfrac{1}{1 + e^{-x}}\\biggr]^{'}_x = \\sigma(x)\\bigl[1 - \\sigma(x)\\bigr]$.\n",
    "\n",
    "  Then $\\bigl[\\log{\\sigma(x)}\\bigr]^{'}_x = 1 - \\sigma(x)$ and $\\bigl[\\log{\\sigma(-x)}\\bigr]^{'}_x = \\sigma(-x) - 1$.\n",
    "\n",
    "\n",
    "Let $x_{\\omega c} = \\mathbf{w}^T\\mathbf{c}$, $A_{\\omega c} = \\#(\\omega, c)$ and $B_{\\omega c} = \\cfrac{k\\cdot\\#(w)\\cdot\\#(c)}{|\\mathcal{D}|}$.\n",
    "\n",
    "We need $\\nabla \\mathcal{L} = 0$.\n",
    "\n",
    "Then $\\mathcal{L}^{'}_{x_{\\omega c}} = \\bigl[A_{\\omega c}\\log{\\sigma(x_{\\omega c})} + B_{\\omega c}\\log{\\sigma(-x_{\\omega c})}\\bigr]^{'}_{x_{\\omega c}} = A_{\\omega c}\\bigl[1 - \\sigma(x_{\\omega c})\\bigr] + B_{\\omega c}\\bigl[\\sigma(-x_{\\omega c}) - 1\\bigl] =$\n",
    "\n",
    "$= \\cfrac{(A_{\\omega c} - B_{\\omega c})(1 + e^{x_{\\omega c}})(1 + e^{-x_{\\omega c}}) + B_{\\omega c}(1 + e^{-x_{\\omega c}}) - A_{\\omega c}(1 + e^{x_{\\omega c}}))}{(1 + e^{x_{\\omega c}})(1 + e^{-x_{\\omega c}})} =$\n",
    "\n",
    "$= \\cfrac{2(A_{\\omega c} - B_{\\omega c}) + (A_{\\omega c} - B_{\\omega c})(e^{x_{\\omega c}} + e^{-x_{\\omega c}}) + (B_{\\omega c} - A_{\\omega c}) + B_{\\omega c}e^{-x_{\\omega c}} - A_{\\omega c}e^{x_{\\omega c}}}{(1 + e^{x_{\\omega c}})(1 + e^{-x_{\\omega c}})} = \\cfrac{(A_{\\omega c} - B_{\\omega c}) + A_{\\omega c}e^{-x_{\\omega c}} - B_{\\omega c}e^{x_{\\omega c}}}{(1 + e^{x_{\\omega c}})(1 + e^{-x_{\\omega c}})} = 0$\n",
    "\n",
    "\n",
    "* $(A_{\\omega c} - B_{\\omega c}) + A_{\\omega c}e^{-x_{\\omega c}} - B_{\\omega c}e^{x_{\\omega c}} = 0\\quad |\\cdot e^{x_{\\omega c}}$\n",
    "\n",
    "  $B_{\\omega c}e^{2x_{\\omega c}} - (A_{\\omega c} - B_{\\omega c})e^{x_{\\omega c}} - A = 0$\n",
    "  \n",
    "  Then $e^{x_{\\omega c}} = \\cfrac{A_{\\omega c}}{B_{\\omega c}}$ **or** $e^{x_{\\omega c}} = -1$ (does not satisfy $1 + e^{x_{\\omega c}} \\not= 0$)\n",
    "  \n",
    "\n",
    "Thus, $\\text{SPMI}(w,c) = M_{\\omega c} = \\mathbf{w}^T\\mathbf{c} = x_{\\omega c} = \\log{\\biggl[\\cfrac{A_{\\omega c}}{B_{\\omega c}}\\biggr]} = \\log{\\biggl[\\cfrac{\\#(\\omega, c)\\cdot|\\mathcal{D}|}{k\\cdot\\#(w)\\cdot\\#(c)}\\biggr]}$"
   ]
  },
  {
   "cell_type": "markdown",
   "metadata": {},
   "source": [
    "### Task 2 (practical) 36 pts"
   ]
  },
  {
   "cell_type": "code",
   "execution_count": 19,
   "metadata": {},
   "outputs": [],
   "source": [
    "import os\n",
    "import numpy as np\n",
    "from sklearn.metrics.pairwise import cosine_similarity\n",
    "from scipy.sparse.linalg import svds"
   ]
  },
  {
   "cell_type": "markdown",
   "metadata": {},
   "source": [
    "1. Download dataset [enwik8](http://mattmahoney.net/dc/enwik8.zip) of compressed Wikipedia articles and preprocess raw data with Perl script **main_.pl**. This script will clean all unnecessary symbols, make all words to lowercase, and produce only sentences with words. If you are Windows user, you can install [linux subsystem in windows](https://www.microsoft.com/en-us/p/ubuntu-1804-lts/9n9tngvndl3q?activetab=pivot:overviewtab) and run all these bash commands from ubuntu console (it was checked on the Windows and it works). Also, you can just download file from this [link](https://nla.skoltech.ru/homeworks/files/enwik8.txt).\n",
    "```\n",
    "wget http://mattmahoney.net/dc/enwik8.zip\n",
    "unzip enwik8.zip\n",
    "mkdir data\n",
    "perl main_.pl enwik8 > data/enwik8.txt\n",
    "```"
   ]
  },
  {
   "cell_type": "code",
   "execution_count": 20,
   "metadata": {},
   "outputs": [],
   "source": [
    "# Load enwik 8\n",
    "\n",
    "import re\n",
    "file = open(\"data/enwik8.txt\", \"r\")\n",
    "doclist = [line for line in file]\n",
    "docstr = ''.join(doclist)\n",
    "sentences = re.split(r'[.!?]', docstr)\n",
    "sentences = [sentence.split() for sentence in sentences if len(sentence) > 1]"
   ]
  },
  {
   "cell_type": "code",
   "execution_count": 21,
   "metadata": {
    "scrolled": true
   },
   "outputs": [
    {
     "name": "stdout",
     "output_type": "stream",
     "text": [
      "['achilles', 'wrath', 'is', 'terrible', 'and', 'he', 'slays', 'many', 'trojan', 'warriors', 'and', 'allies', 'including', 'priam', 's', 'son', 'lycaon', 'whom', 'achilles', 'had', 'previously', 'captured', 'and', 'sold', 'into', 'slavery', 'but', 'who', 'had', 'been', 'returned', 'to', 'troy']\n"
     ]
    }
   ],
   "source": [
    "print(sentences[1249])"
   ]
  },
  {
   "cell_type": "markdown",
   "metadata": {},
   "source": [
    "2. Construct the word vocabulary from the obtained sentences which enumerates words which occur more than $r=200$ times in the corpus."
   ]
  },
  {
   "cell_type": "code",
   "execution_count": 22,
   "metadata": {},
   "outputs": [],
   "source": [
    "def create_vocabulary(sentences, r=200):\n",
    "    vocabulary = {}\n",
    "    # Your code is here\n",
    "    for sentence in sentences:\n",
    "        for word in sentence:\n",
    "            if vocabulary.get(word) == None:\n",
    "                vocabulary[word] = 1\n",
    "            else:\n",
    "                vocabulary[word] += 1\n",
    "    \n",
    "    deleted_words = []\n",
    "    i = 0\n",
    "    for word in vocabulary.keys():\n",
    "        if vocabulary[word] <= r:\n",
    "            deleted_words.append(word)\n",
    "        else:\n",
    "            vocabulary[word] = i\n",
    "            i += 1\n",
    "    for word in deleted_words:\n",
    "        vocabulary.pop(word)\n",
    "\n",
    "    return vocabulary"
   ]
  },
  {
   "cell_type": "code",
   "execution_count": 23,
   "metadata": {},
   "outputs": [],
   "source": [
    "vocab = create_vocabulary(sentences)"
   ]
  },
  {
   "cell_type": "markdown",
   "metadata": {},
   "source": [
    "3. Scan the text corpus with sliding window of size $5$ and step $1$ (which corresponds to $L$=2) and construct co-occurrence word-context matrix $D$ with elements $D_{wc}=\\#(w,c)$. Please, ignore words which occur less than $r=200$ times, but include them into the sliding window. Please, see the graphical illustration of the procedure described."
   ]
  },
  {
   "cell_type": "markdown",
   "metadata": {},
   "source": [
    "![Sliding window](sliding_window.png)"
   ]
  },
  {
   "cell_type": "code",
   "execution_count": 24,
   "metadata": {},
   "outputs": [],
   "source": [
    "def create_corpus_matrix(sentences, vocabulary):\n",
    "    # Your code is here\n",
    "    L = 2\n",
    "    corpus_matrix = np.zeros((len(vocab), len(vocab)))\n",
    "    \n",
    "    for sentence in sentences:\n",
    "        for i in range(len(sentence)):\n",
    "            word = sentence[i]\n",
    "            if vocabulary.get(word) == None:\n",
    "                break\n",
    "\n",
    "            context = []\n",
    "            for j in range(max(0, i - L), min(len(sentence), i + L + 1)):\n",
    "                if j == i:\n",
    "                    break\n",
    "                context.append(sentence[j])\n",
    "            \n",
    "            for context_word in context:\n",
    "                if vocabulary.get(context_word) == None:\n",
    "                    break\n",
    "                corpus_matrix[vocabulary[word]][vocabulary[context_word]] += 1\n",
    "    \n",
    "    return corpus_matrix"
   ]
  },
  {
   "cell_type": "code",
   "execution_count": 25,
   "metadata": {},
   "outputs": [],
   "source": [
    "D = create_corpus_matrix(sentences, vocab)"
   ]
  },
  {
   "cell_type": "markdown",
   "metadata": {},
   "source": [
    "4. To find good word embeddings, [Levy and Goldberg, 2015](http://papers.nips.cc/paper/5477-neural-word-embedding-as-implicit-matrix-factorization.pdf) proposed to find rank-$d$ SVD of Shifted Positive Pointwise Mutual Information (SPPMI) matrix\n",
    "\n",
    "$$ U \\Sigma V^\\top \\approx \\text{SPPMI}, $$\n",
    "\n",
    "where $\\text{SPPMI}(w, c) = \\max\\left(\\text{SPMI}(w, c), 0 \\right)$ and $\\text{SPMI}(w, c)$ is the element of the matrix $\\text{SPPMI}$ at position $(w, c)$.\n",
    "Then use $W=U\\sqrt{\\Sigma}$ as word embedding matrix. Your task is to reproduce their results. Write function constructs $\\text{SPPMI}$ matrix, computes its SVD and produces word-vectors matrix $W$. Pay attention that $\\text{SPPMI}$ matrix is **sparse**!  "
   ]
  },
  {
   "cell_type": "code",
   "execution_count": 26,
   "metadata": {},
   "outputs": [],
   "source": [
    "from scipy.sparse import csr_matrix"
   ]
  },
  {
   "cell_type": "code",
   "execution_count": 27,
   "metadata": {},
   "outputs": [],
   "source": [
    "def compute_embeddings(D, k, d=200):\n",
    "    # Your code is here\n",
    "    D_size = np.sum(D)\n",
    "    words_numbers = np.sum(D, axis=1)\n",
    "    context_words_numbers = np.sum(D, axis=0)\n",
    "    \n",
    "    rows_indices = []\n",
    "    columns_indices = []\n",
    "    values = []\n",
    "    for i in range(D.shape[0]):\n",
    "        for j in range(D.shape[0]):\n",
    "            value = (D[i, j] * D_size) / (k * words_numbers[i] * context_words_numbers[j])\n",
    "            if value > 1:\n",
    "                rows_indices.append(i)\n",
    "                columns_indices.append(j)\n",
    "                values.append(np.log(value))\n",
    "\n",
    "    M = csr_matrix((values, (rows_indices, columns_indices)), shape=(D.shape[0], D.shape[0]))\n",
    "    U, S, _ = svds(M, d)\n",
    "    embedding_matrix = np.dot(U, np.sqrt(np.diag(S)))\n",
    "    \n",
    "    return embedding_matrix"
   ]
  },
  {
   "cell_type": "code",
   "execution_count": 28,
   "metadata": {},
   "outputs": [
    {
     "name": "stderr",
     "output_type": "stream",
     "text": [
      "D:\\Anaconda\\lib\\site-packages\\ipykernel_launcher.py:12: RuntimeWarning: invalid value encountered in double_scalars\n",
      "  if sys.path[0] == '':\n"
     ]
    }
   ],
   "source": [
    "k = 5 # negative sampling parameter\n",
    "W = compute_embeddings(D, k)"
   ]
  },
  {
   "cell_type": "markdown",
   "metadata": {},
   "source": [
    "5. Write class **WordVectors** using provided template."
   ]
  },
  {
   "cell_type": "code",
   "execution_count": 29,
   "metadata": {},
   "outputs": [],
   "source": [
    "class WordVectors:\n",
    "    \n",
    "    def __init__(self, vocabulary, embedding_matrix):\n",
    "        self.vocab = vocabulary\n",
    "        self.W = embedding_matrix\n",
    "        self.inv_vocab = {v: k for k, v in self.vocab.items()}\n",
    "        \n",
    "    def word_vector(self, word):\n",
    "        \"\"\" \n",
    "        Takes word and returns its word vector.\n",
    "        \"\"\"\n",
    "#         Your code is here\n",
    "        return self.W[self.vocab[word], :]\n",
    "    \n",
    "    def nearest_words(self, word, top_n=10):\n",
    "        \"\"\" \n",
    "        Takes word from the vocabulary and returns its top_n\n",
    "        nearest neighbors in terms of cosine similarity.\n",
    "        \"\"\"\n",
    "#         Your code is here\n",
    "        cosine_similarities = cosine_similarity(W)\n",
    "\n",
    "        similarities = cosine_similarities[self.vocab[word]]\n",
    "        top_n_indices = np.argpartition(similarities, -(top_n + 1))[-(top_n + 1):]\n",
    "        \n",
    "        neighbors = [(self.inv_vocab[i], similarity) for i, similarity in zip(top_n_indices, similarities[top_n_indices])]\n",
    "        neighbors = sorted(neighbors, key=lambda x: x[1], reverse=True)[1:]\n",
    "\n",
    "        return neighbors"
   ]
  },
  {
   "cell_type": "code",
   "execution_count": 30,
   "metadata": {},
   "outputs": [],
   "source": [
    "model = WordVectors(vocab, W)"
   ]
  },
  {
   "cell_type": "code",
   "execution_count": 31,
   "metadata": {},
   "outputs": [
    {
     "data": {
      "text/plain": [
       "[('liberalism', 0.4820756246816184),\n",
       " ('democrats', 0.40956775037484716),\n",
       " ('socialism', 0.381145294387028),\n",
       " ('philosophy', 0.38082008027821884),\n",
       " ('communism', 0.3765188747083828),\n",
       " ('democracy', 0.34960205073689277),\n",
       " ('thought', 0.3476122269362211),\n",
       " ('capitalism', 0.34722276842153843),\n",
       " ('movements', 0.34300137887423965),\n",
       " ('anarchist', 0.3416838507278369)]"
      ]
     },
     "execution_count": 31,
     "metadata": {},
     "output_type": "execute_result"
    }
   ],
   "source": [
    "model.nearest_words(\"anarchism\")"
   ]
  },
  {
   "cell_type": "code",
   "execution_count": 32,
   "metadata": {},
   "outputs": [
    {
     "data": {
      "text/plain": [
       "[('soviet', 0.5831259273896431),\n",
       " ('senator', 0.5240331884893878),\n",
       " ('yugoslavia', 0.46262123659118864),\n",
       " ('nazi', 0.45374788887865103),\n",
       " ('slaves', 0.453699715747911),\n",
       " ('presidents', 0.41348598085544286),\n",
       " ('associate', 0.3937567355050426),\n",
       " ('nazis', 0.3762497560097214),\n",
       " ('germany', 0.37471579707602254),\n",
       " ('minister', 0.37199878769120737)]"
      ]
     },
     "execution_count": 32,
     "metadata": {},
     "output_type": "execute_result"
    }
   ],
   "source": [
    "model.nearest_words(\"ussr\")"
   ]
  },
  {
   "cell_type": "code",
   "execution_count": 33,
   "metadata": {},
   "outputs": [
    {
     "data": {
      "text/plain": [
       "[('hip', 0.6660672713935646),\n",
       " ('hop', 0.6458276000154829),\n",
       " ('music', 0.5985852522558357),\n",
       " ('punk', 0.579083396786842),\n",
       " ('band', 0.5610997006625127),\n",
       " ('rock', 0.558524780658256),\n",
       " ('scene', 0.5568575280126887),\n",
       " ('musicians', 0.556144526693499),\n",
       " ('pop', 0.5328744253939167),\n",
       " ('singers', 0.5252195251946098)]"
      ]
     },
     "execution_count": 33,
     "metadata": {},
     "output_type": "execute_result"
    }
   ],
   "source": [
    "model.nearest_words(\"rap\")"
   ]
  },
  {
   "cell_type": "markdown",
   "metadata": {},
   "source": [
    "6. Calculate top 10 nearest neighbours with the corresponding cosine similarities for the words {matrix, multiplication, algorithm} and print them below"
   ]
  },
  {
   "cell_type": "code",
   "execution_count": 34,
   "metadata": {},
   "outputs": [
    {
     "data": {
      "text/plain": [
       "[('loop', 0.4097291615046093),\n",
       " ('operator', 0.38329867150715213),\n",
       " ('membrane', 0.3787589849398026),\n",
       " ('function', 0.37225499948560015),\n",
       " ('diagram', 0.3488141880731778),\n",
       " ('graph', 0.33418999516889786),\n",
       " ('decimal', 0.32547307130343134),\n",
       " ('outer', 0.3241614680523205),\n",
       " ('inner', 0.32411467455701226),\n",
       " ('product', 0.3201639311515252)]"
      ]
     },
     "execution_count": 34,
     "metadata": {},
     "output_type": "execute_result"
    }
   ],
   "source": [
    "# Your solution is here\n",
    "model.nearest_words(\"matrix\")"
   ]
  },
  {
   "cell_type": "code",
   "execution_count": 35,
   "metadata": {},
   "outputs": [
    {
     "data": {
      "text/plain": [
       "[('algebra', 0.4909126816036757),\n",
       " ('integers', 0.44473907103876986),\n",
       " ('vector', 0.4403834340587995),\n",
       " ('finite', 0.43543593747915005),\n",
       " ('algebraic', 0.4314460091050148),\n",
       " ('hilbert', 0.3916175674356871),\n",
       " ('calculus', 0.36973020555135355),\n",
       " ('extension', 0.36311912279664255),\n",
       " ('geometry', 0.35545474536311766),\n",
       " ('integer', 0.352784886873053)]"
      ]
     },
     "execution_count": 35,
     "metadata": {},
     "output_type": "execute_result"
    }
   ],
   "source": [
    "model.nearest_words(\"multiplication\")"
   ]
  },
  {
   "cell_type": "code",
   "execution_count": 36,
   "metadata": {},
   "outputs": [
    {
     "data": {
      "text/plain": [
       "[('algorithms', 0.7322877604657771),\n",
       " ('computation', 0.4754261498712166),\n",
       " ('mathematical', 0.46308626603317227),\n",
       " ('algebraic', 0.3989125908901003),\n",
       " ('notation', 0.3986808989817671),\n",
       " ('tree', 0.3923210376344869),\n",
       " ('methods', 0.3910152417594372),\n",
       " ('encryption', 0.3890578939309872),\n",
       " ('coding', 0.38189523451367624),\n",
       " ('solutions', 0.36826933265112916)]"
      ]
     },
     "execution_count": 36,
     "metadata": {},
     "output_type": "execute_result"
    }
   ],
   "source": [
    "model.nearest_words(\"algorithm\")"
   ]
  },
  {
   "cell_type": "markdown",
   "metadata": {},
   "source": [
    "# Problem 4 (eigenvalues)  45 pts\n",
    "\n",
    "### 1. Theoretical tasks (10 pts)\n",
    "\n",
    "* (5 pts) Prove that normal matrix is Hermitian iff its eigenvalues are real. Prove that normal matrix is unitary iff its eigenvalues satisfy $|\\lambda| = 1$. \n",
    "\n",
    "* (5 pts) The following problem illustrates instability of the Jordan form. Find theoretically the eigenvalues of the perturbed Jordan block:\n",
    "\n",
    "$$\n",
    "    J(\\varepsilon) = \n",
    "    \\begin{bmatrix} \n",
    "     \\lambda & 1 & & & 0 \\\\ \n",
    "     & \\lambda & 1 & & \\\\ \n",
    "     &  & \\ddots & \\ddots & \\\\ \n",
    "     & & & \\lambda & 1 \\\\ \n",
    "     \\varepsilon & & & & \\lambda  \\\\ \n",
    "    \\end{bmatrix}_{n\\times n}\n",
    "$$\n",
    "\n",
    "Comment how eigenvalues of $J(0)$ are perturbed for large $n$."
   ]
  },
  {
   "cell_type": "markdown",
   "metadata": {},
   "source": [
    "**P4.1.1**\n",
    "\n",
    "**(1)**\n",
    "\n",
    "* Let $A$ is Hermitian (i.e. $A^* = A$). Take $\\lambda \\in \\mathbb{C}$ is eigenvalue and $v \\not= 0$ is corresponding eigenvector. Then $\\bar \\lambda(v, v) = (\\lambda v, v) = (Av, v) = (v, A^*v) = (v, Av) = (v, \\lambda v) = \\lambda(v, v)$. Since $(v, v) \\not= 0$ we get $\\bar \\lambda = \\lambda$, i.e $\\lambda \\in \\mathbb{R}$.\n",
    "\n",
    "\n",
    "* Let $A$ is normal (i.e. $A^*A = AA^*$) and all eigenvalues are real. Then in Schur decomposition $A = UTU^*$ matrix $T$ is diagonal with real eigenvalues in diagonal, i.e. $T = T^*$. Thus, $A^* = (UTU^*)^* = UT^*U^* = UTU^* = A$, i.e. $A$ is Hermitian.\n",
    "\n",
    "**(2)**\n",
    "\n",
    "* Let $A$ is unitary (i.e. $A^*A = AA^* = I$). Take $\\lambda \\in \\mathbb{C}$ is eigenvalue and $v \\not= 0$ is corresponding eigenvector. Then $(v, v) = (A^*Av, v) = (Av, Av) = (\\lambda v, \\lambda v) = \\bar \\lambda \\lambda(v, v) = |\\lambda|^2(v, v)$. Since $(v, v) \\not= 0$ we get $|\\lambda|^2 = 1$, i.e $|\\lambda| = 1$.\n",
    "\n",
    "\n",
    "* Let $A$ is normal (i.e. $A^*A = AA^*$) and all eigenvalues satisfy $|\\lambda| = 1$. Then in Schur decomposition $A = UTU^*$ matrix $T$ is diagonal and $T^*T = TT^* = diag(|\\lambda_1|^2, \\dots, |\\lambda_k|^2) = I$. Thus, $A^*A = (UTU^*)^*(UTU^*) = UT^*U^*UTU^* = UT^*TU^* = UIU^* = UU^* = I$ **and** $AA^* = (UTU^*)(UTU^*)^* = UTU^*UT^*U^* = UTT^*U^* = UIU^* = UU^* = I$. Thus, $A^*A = AA^* = I$, i.e. $A$ is unitary."
   ]
  },
  {
   "cell_type": "markdown",
   "metadata": {},
   "source": [
    "**P4.1.2**\n",
    "\n",
    "$\\det(J_{n\\times n}(\\varepsilon) - \\mu I) = \\bigl[$ factorization on first column $\\bigr] = (\\lambda - \\mu)\\det(J_{(n-1)\\times (n-1)}(\\varepsilon) - \\mu I) + (-1)^{n+1}\\varepsilon \\det(\\begin{bmatrix} \n",
    "                                                                      1 & &  & 0 \\\\ \n",
    "                                                                      \\lambda & 1 & &  \\\\ \n",
    "                                                                      & \\ddots & \\ddots  & \\\\ \n",
    "                                                                      & &  \\lambda & 1 \\\\ \n",
    "                                                                   \\end{bmatrix} - \\mu I) =$\n",
    "$= (\\lambda - \\mu)^n + (-1)^{n+1}\\varepsilon$\n",
    "\n",
    "$(\\lambda - \\mu)^n + (-1)^{n+1}\\varepsilon = 0$. Then\n",
    "\n",
    "* for $n = 2k$: $\\mu = \\lambda - \\varepsilon^{\\frac{1}{n}} \\to_{n \\to \\infty} \\lambda - 1$\n",
    "\n",
    "* for $n = 2k - 1$: $\\mu = \\lambda - \\exp(i\\frac{2\\pi k}{n}) \\varepsilon^{\\frac{1}{n}} \\to_{n \\to \\infty} \\lambda - \\exp(i\\frac{2\\pi k}{n})$, where $k\\in \\overline{0, (n - 1)}$"
   ]
  },
  {
   "cell_type": "markdown",
   "metadata": {},
   "source": [
    "### 2. PageRank\n",
    "\n",
    "\n",
    "#### Damping factor importance\n",
    "\n",
    "* (5 pts) Write the function ```pagerank_matrix(G)``` that takes an adjacency matrix $G$ (in both sparse and dense formats) as an input and outputs the corresponding PageRank matrix $A$."
   ]
  },
  {
   "cell_type": "code",
   "execution_count": 50,
   "metadata": {},
   "outputs": [],
   "source": [
    "# INPUT:  G - np.ndarray or sparse matrix\n",
    "# OUTPUT: A - np.ndarray (of size G.shape) or sparse matrix\n",
    "def pagerank_matrix(G):\n",
    "    # enter your code here\n",
    "    if isinstance(G, np.ndarray):\n",
    "        A = G.copy().T\n",
    "        A = A.astype(np.float32)\n",
    "        N = A.shape[0]\n",
    "        \n",
    "        columns_sums = np.sum(A, axis=0)\n",
    "        A[:, columns_sums == 0] = 1.0 / N\n",
    "        \n",
    "        columns_sums[columns_sums == 0] = 1\n",
    "        D = np.diag(1.0 / columns_sums)\n",
    "        A = np.dot(A, D)\n",
    "    else:\n",
    "        A = G.copy().transpose()\n",
    "        A = A.astype(np.float32)\n",
    "        N = A.shape[0]\n",
    "        \n",
    "        columns_sums = np.array(np.sum(A, axis=0).tolist()[0])\n",
    "#         A[:, columns_sums == 0] = 1.0 / N\n",
    "        \n",
    "        A = A.tocsr()\n",
    "        \n",
    "        columns_sums[columns_sums == 0] = 1\n",
    "        diag = 1.0 / columns_sums\n",
    "        D = sp.diags(diag, shape = A.shape)\n",
    "        A = np.dot(A, D)\n",
    "    \n",
    "    return A"
   ]
  },
  {
   "cell_type": "markdown",
   "metadata": {},
   "source": [
    "* (3 pts) Find PageRank matrix $A$ that corresponds to the following graph: <img src=\"graph.png\" width='250'>\n",
    "What is its largest eigenvalue? What multiplicity does it have?\n",
    "\n",
    "\n",
    "* (5 pts) Implement the power method for a given matrix $A$, an initial guess $x_0$ and a number of iterations ```num_iter```. It should be organized as a function ```power_method(A, x0, num_iter)``` that outputs approximation to eigenvector $x$, eigenvalue $\\lambda$ and history of residuals $\\{\\|Ax_k - \\lambda_k x_k\\|_2\\}$. Make sure that the method converges to the correct solution on a matrix $\\begin{bmatrix} 2 & -1 \\\\ -1 & 2 \\end{bmatrix}$ which is known to have the largest eigenvalue equal to $3$."
   ]
  },
  {
   "cell_type": "markdown",
   "metadata": {},
   "source": [
    "**P4.2.2**\n",
    "\n",
    "**Adjacency matrix** $G$ for the given graph is:\n",
    "\n",
    "$G = \\begin{bmatrix}\n",
    "         0 & 1 & 0 & 0 & 0 \\\\\n",
    "         0 & 0 & 1 & 0 & 0 \\\\\n",
    "         1 & 1 & 0 & 0 & 0 \\\\\n",
    "         0 & 0 & 0 & 0 & 1 \\\\\n",
    "         0 & 0 & 0 & 1 & 0\n",
    "     \\end{bmatrix} => G^T = \\begin{bmatrix}\n",
    "         0 & 0 & 1 & 0 & 0 \\\\\n",
    "         1 & 0 & 1 & 0 & 0 \\\\\n",
    "         0 & 1 & 0 & 0 & 0 \\\\\n",
    "         0 & 0 & 0 & 0 & 1 \\\\\n",
    "         0 & 0 & 0 & 1 & 0\n",
    "     \\end{bmatrix}$\n",
    "     \n",
    "**The columns sums** are: $[1; 1; 2; 1; 1]$\n",
    "\n",
    "Then **PageRank** matrix for the given graph is:\n",
    "\n",
    "$A = \\begin{bmatrix}\n",
    "         0 & 0 & 0.5 & 0 & 0 \\\\\n",
    "         1 & 0 & 0.5 & 0 & 0 \\\\\n",
    "         0 & 1 & 0 & 0 & 0 \\\\\n",
    "         0 & 0 & 0 & 0 & 1 \\\\\n",
    "         0 & 0 & 0 & 1 & 0\n",
    "     \\end{bmatrix}$\n",
    "     \n",
    "Eigenvalues of $A$ are $\\lambda_{1, 2} = 1$, $\\lambda_3 = -1, \\lambda_{4, 5} = -\\cfrac{1}{2} \\pm \\cfrac{i}{2}$. \n",
    "\n",
    "$\\lambda_{1, 2}$ with **multiplicity** $ = 2$ are the largest eigenvalues."
   ]
  },
  {
   "cell_type": "code",
   "execution_count": 38,
   "metadata": {},
   "outputs": [],
   "source": [
    "# INPUT:  A - np.ndarray (2D), x0 - np.ndarray (1D), num_iter - integer (positive)\n",
    "# OUTPUT: x - np.ndarray (of size x0), l - float, res - np.ndarray (of size num_iter + 1 [include initial guess])\n",
    "def power_method(A, x0, num_iter): # 5 pts\n",
    "    # enter your code here\n",
    "    res = []\n",
    "    x = x0.copy()\n",
    "    x /= np.linalg.norm(x)\n",
    "    \n",
    "    for k in range(num_iter):\n",
    "        x = np.dot(A, x)\n",
    "        x /= np.linalg.norm(x)\n",
    "        l = np.dot(np.dot(x.T, A), x)\n",
    "        res.append(np.linalg.norm(np.dot(A, x) - l*x))\n",
    "\n",
    "    return x, l, res"
   ]
  },
  {
   "cell_type": "code",
   "execution_count": 39,
   "metadata": {},
   "outputs": [
    {
     "name": "stdout",
     "output_type": "stream",
     "text": [
      "For initial approximation x0 = [0.41976463 0.25701151] and number of iterations = 100\n",
      "Solution: \n",
      " lambda = 3.0, \n",
      " x = [ 0.70710678 -0.70710678], \n",
      " norm of residual = 0.0\n"
     ]
    }
   ],
   "source": [
    "x0 = np.random.rand(2)\n",
    "num_iter = 100\n",
    "print('For initial approximation x0 = {} and number of iterations = {}'.format(x0, num_iter))\n",
    "x, l, res = power_method(np.array([[2.0, -1.0], [-1.0, 2.0]]), x0, num_iter)\n",
    "print('Solution: \\n lambda = {0}, \\n x = {1}, \\n norm of residual = {2}'.format(l, x, res[-1]))"
   ]
  },
  {
   "cell_type": "markdown",
   "metadata": {},
   "source": [
    "* (2 pts) Run the power method for the graph presented above and plot residuals $\\|Ax_k - \\lambda_k x_k\\|_2$ as a function of $k$ for ```num_iter=100``` and random initial guess ```x0```.  Explain the absence of convergence. \n",
    "\n",
    "\n",
    "* (2 pts) Consider the same graph, but with additional self loop at node 4 (self loop is an edge that connects a vertex with itself). Plot residuals as in the previous task and discuss the convergence. Now, run the power method with ```num_iter=100``` for 10 different initial guesses and print/plot the resulting approximated eigenvectors. Why do they depend on the initial guess?\n",
    "\n",
    "\n",
    "In order to avoid this problem Larry Page and Sergey Brin [proposed](http://ilpubs.stanford.edu:8090/422/1/1999-66.pdf) to use the following regularization technique:\n",
    "\n",
    "$$\n",
    "A_d = dA + \\frac{1-d}{N} \\begin{pmatrix} 1 & \\dots & 1 \\\\ \\vdots & & \\vdots \\\\ 1 & \\dots & 1 \\end{pmatrix},\n",
    "$$\n",
    "\n",
    "where $d$ is a small parameter in $[0,1]$ (typically $d=0.85$), which is called **damping factor**, $A$ is of size $N\\times N$. Now $A_d$ is the matrix with multiplicity of the largest eigenvalue equal to 1. \n",
    "Recall that computing the eigenvector of the PageRank matrix, which corresponds to the largest eigenvalue, has the following interpretation. Consider a person who stays in a random node of a graph (i.e. opens a random web page); at each step s/he follows one of the outcoming edges uniformly at random (i.e. opens one of the links). So the person randomly walks through the graph and the eigenvector we are looking for is exactly his/her stationary distribution â€” for each node it tells you the probability of visiting this particular node. Therefore, if the person has started from a part of the graph which is not connected with the other part, he will never get there.  In the regularized model, the person at each step follows one of the outcoming links with probability $d$ OR teleports to a random node from the whole graph with probability $(1-d)$.\n",
    "\n",
    "* (2 pts) Now, run the power method with $A_d$ and plot residuals $\\|A_d x_k - \\lambda_k x_k\\|_2$ as a function of $k$ for $d=0.97$, ```num_iter=100``` and a random initial guess ```x0```.\n",
    "\n",
    "* (5 pts) Find the second largest in the absolute value eigenvalue of the obtained matrix $A_d$. How and why is it connected to the damping factor $d$? What is the convergence rate of the PageRank algorithm when using damping factor?\n",
    "\n",
    "Usually, graphs that arise in various areas are sparse (social, web, road networks, etc.) and, thus, computation of a matrix-vector product for corresponding PageRank matrix $A$ is much cheaper than $\\mathcal{O}(N^2)$. However, if $A_d$ is calculated directly, it becomes dense and, therefore, $\\mathcal{O}(N^2)$ cost grows prohibitively large for  big $N$.\n",
    "\n",
    "\n",
    "* (2 pts) Implement fast matrix-vector product for $A_d$ as a function ```pagerank_matvec(A, d, x)```, which takes a PageRank matrix $A$ (in sparse format, e.g., ```csr_matrix```), damping factor $d$ and a vector $x$ as an input and returns $A_dx$ as an output. \n",
    "\n",
    "* (1 pts) Generate a random adjacency matrix of size $10000 \\times 10000$ with only 100 non-zero elements and compare ```pagerank_matvec``` performance with direct evaluation of $A_dx$."
   ]
  },
  {
   "cell_type": "code",
   "execution_count": 40,
   "metadata": {},
   "outputs": [
    {
     "name": "stdout",
     "output_type": "stream",
     "text": [
      "[[0.  0.  0.5 0.  0. ]\n",
      " [1.  0.  0.5 0.  0. ]\n",
      " [0.  1.  0.  0.  0. ]\n",
      " [0.  0.  0.  0.  1. ]\n",
      " [0.  0.  0.  1.  0. ]]\n"
     ]
    }
   ],
   "source": [
    "G = np.array([[0, 1, 0, 0, 0],\n",
    "              [0, 0, 1, 0, 0],\n",
    "              [1, 1, 0, 0, 0],\n",
    "              [0, 0, 0, 0, 1],\n",
    "              [0, 0, 0, 1, 0]])\n",
    "A = pagerank_matrix(G)\n",
    "print(A)"
   ]
  },
  {
   "cell_type": "code",
   "execution_count": 41,
   "metadata": {},
   "outputs": [
    {
     "name": "stdout",
     "output_type": "stream",
     "text": [
      "For initial approximation x0 = [0.26010654 0.4901361  0.48221234 0.01519528 0.70575347] and number of iterations = 100\n",
      "Solution: \n",
      " lambda = 0.5437252442744003, \n",
      " x = [0.24110932 0.48221864 0.48221864 0.01486352 0.69034465], \n",
      " norm of residual = 0.8392632833257653\n"
     ]
    },
    {
     "data": {
      "image/png": "[encoded data removed]",
      "text/plain": [
       "<Figure size 936x576 with 1 Axes>"
      ]
     },
     "metadata": {
      "needs_background": "light"
     },
     "output_type": "display_data"
    }
   ],
   "source": [
    "x0 = np.random.rand(A.shape[0])\n",
    "num_iter = 100\n",
    "\n",
    "print('For initial approximation x0 = {} and number of iterations = {}'.format(x0, num_iter))\n",
    "x, l, res = power_method(A, x0=x0, num_iter=num_iter)\n",
    "print('Solution: \\n lambda = {0}, \\n x = {1}, \\n norm of residual = {2}'.format(l, x, res[-1]))\n",
    "\n",
    "plt.figure(figsize=(13, 8))\n",
    "plt.semilogy(res)\n",
    "plt.title('Convergence of power method for the PageRank matrix')\n",
    "plt.xlabel('Iteration')\n",
    "plt.ylabel('Residual norm')\n",
    "plt.show()"
   ]
  },
  {
   "cell_type": "markdown",
   "metadata": {},
   "source": [
    "**P4.2.4**\n",
    "\n",
    "Lack of convergence is a result of multiplicity of largest eigenvalues:\n",
    "\n",
    "$q = \\cfrac{|\\lambda_2|}{|\\lambda_1|} = \\cfrac{1}{1} = 1$ and there is no convergence at all."
   ]
  },
  {
   "cell_type": "code",
   "execution_count": 42,
   "metadata": {},
   "outputs": [
    {
     "name": "stdout",
     "output_type": "stream",
     "text": [
      "[[0.  0.  0.5 0.  0. ]\n",
      " [1.  0.  0.5 0.  0. ]\n",
      " [0.  1.  0.  0.  0. ]\n",
      " [0.  0.  0.  0.  0.5]\n",
      " [0.  0.  0.  1.  0.5]]\n"
     ]
    }
   ],
   "source": [
    "G = np.array([[0, 1, 0, 0, 0],\n",
    "              [0, 0, 1, 0, 0],\n",
    "              [1, 1, 0, 0, 0],\n",
    "              [0, 0, 0, 0, 1],\n",
    "              [0, 0, 0, 1, 1]])\n",
    "A = pagerank_matrix(G)\n",
    "print(A)"
   ]
  },
  {
   "cell_type": "code",
   "execution_count": 43,
   "metadata": {},
   "outputs": [
    {
     "name": "stdout",
     "output_type": "stream",
     "text": [
      "For initial approximation x0 = [0.94714594 0.56377989 0.72342885 0.5517637  0.81900287] and number of iterations = 100\n",
      "Solution: \n",
      " lambda = 1.0, \n",
      " x = [0.26511628 0.53023255 0.53023255 0.27107941 0.54215882], \n",
      " norm of residual = 5.3533015581491455e-16\n"
     ]
    },
    {
     "data": {
      "image/png": "[encoded data removed]",
      "text/plain": [
       "<Figure size 936x576 with 1 Axes>"
      ]
     },
     "metadata": {
      "needs_background": "light"
     },
     "output_type": "display_data"
    }
   ],
   "source": [
    "x0 = np.random.rand(A.shape[0])\n",
    "num_iter = 100\n",
    "\n",
    "print('For initial approximation x0 = {} and number of iterations = {}'.format(x0, num_iter))\n",
    "x, l, res = power_method(A, x0=x0, num_iter=num_iter)\n",
    "print('Solution: \\n lambda = {0}, \\n x = {1}, \\n norm of residual = {2}'.format(l, x, res[-1]))\n",
    "\n",
    "plt.figure(figsize=(13, 8))\n",
    "plt.semilogy(res)\n",
    "plt.title('Convergence of power method for the PageRank matrix')\n",
    "plt.xlabel('Iteration')\n",
    "plt.ylabel('Residual norm')\n",
    "plt.show()"
   ]
  },
  {
   "cell_type": "code",
   "execution_count": 44,
   "metadata": {},
   "outputs": [
    {
     "name": "stdout",
     "output_type": "stream",
     "text": [
      "Number of iterations = 100\n",
      "\n",
      "For initial approximation x0 = [0.9976557  0.1395501  0.02734469 0.63610825 0.93009037]\n",
      "Approximated eigenvector x = [0.17119313 0.34238625 0.34238625 0.38372809 0.76745617]\n",
      "\n",
      "For initial approximation x0 = [0.18996964 0.24743292 0.44446239 0.56062226 0.39921262]\n",
      "Approximated eigenvector x = [0.19821059 0.39642118 0.39642118 0.35955891 0.71911782]\n",
      "\n",
      "For initial approximation x0 = [0.63836594 0.9530435  0.38832961 0.36713082 0.24199373]\n",
      "Approximated eigenvector x = [0.31136467 0.62272934 0.62272934 0.15966739 0.31933479]\n",
      "\n",
      "For initial approximation x0 = [0.28699205 0.15044325 0.04322599 0.15225978 0.05826275]\n",
      "Approximated eigenvector x = [0.29279947 0.58559894 0.58559894 0.2137364  0.42747279]\n",
      "\n",
      "For initial approximation x0 = [0.00367902 0.88908228 0.18380391 0.16195539 0.27273552]\n",
      "Approximated eigenvector x = [0.29795213 0.59590426 0.59590426 0.20050973 0.40101946]\n",
      "\n",
      "For initial approximation x0 = [0.58524683 0.26691687 0.39189847 0.63840404 0.90143512]\n",
      "Approximated eigenvector x = [0.18173361 0.36346723 0.36346723 0.3749016  0.74980319]\n",
      "\n",
      "For initial approximation x0 = [0.78970386 0.09857151 0.43601027 0.25801065 0.7351197 ]\n",
      "Approximated eigenvector x = [0.24389387 0.48778775 0.48778775 0.3048416  0.6096832 ]\n",
      "\n",
      "For initial approximation x0 = [0.37362141 0.99037159 0.56140878 0.92333401 0.30738268]\n",
      "Approximated eigenvector x = [0.26104523 0.52209046 0.52209046 0.27810016 0.55620032]\n",
      "\n",
      "For initial approximation x0 = [0.84246431 0.15392116 0.26602122 0.05453616 0.90219976]\n",
      "Approximated eigenvector x = [0.24269809 0.48539617 0.48539617 0.30655464 0.61310929]\n",
      "\n",
      "For initial approximation x0 = [0.8020052  0.71595401 0.4861326  0.42159809 0.69610454]\n",
      "Approximated eigenvector x = [0.2739982  0.54799641 0.54799641 0.25468603 0.50937206]\n",
      "\n"
     ]
    }
   ],
   "source": [
    "num_iter = 100\n",
    "print('Number of iterations = {}'.format(num_iter))\n",
    "print()\n",
    "for i in range(10):\n",
    "    x0 = np.random.rand(A.shape[0])\n",
    "    print('For initial approximation x0 = {}'.format(x0))\n",
    "    x, _, _ = power_method(A, x0=x0, num_iter=num_iter)\n",
    "    print('Approximated eigenvector x = {}'.format(x))\n",
    "    print()"
   ]
  },
  {
   "cell_type": "code",
   "execution_count": 45,
   "metadata": {},
   "outputs": [],
   "source": [
    "def damping_pagerank_matrix(A, d):\n",
    "    N = A.shape[0]\n",
    "    return d*A + (1 - d) / N * np.ones((N, N))"
   ]
  },
  {
   "cell_type": "code",
   "execution_count": 46,
   "metadata": {},
   "outputs": [
    {
     "name": "stdout",
     "output_type": "stream",
     "text": [
      "[[0.  0.  0.5 0.  0. ]\n",
      " [1.  0.  0.5 0.  0. ]\n",
      " [0.  1.  0.  0.  0. ]\n",
      " [0.  0.  0.  0.  0.5]\n",
      " [0.  0.  0.  1.  0.5]]\n"
     ]
    }
   ],
   "source": [
    "G = np.array([[0, 1, 0, 0, 0],\n",
    "              [0, 0, 1, 0, 0],\n",
    "              [1, 1, 0, 0, 0],\n",
    "              [0, 0, 0, 0, 1],\n",
    "              [0, 0, 0, 1, 1]])\n",
    "A = pagerank_matrix(G)\n",
    "print(A)"
   ]
  },
  {
   "cell_type": "code",
   "execution_count": 47,
   "metadata": {},
   "outputs": [
    {
     "name": "stdout",
     "output_type": "stream",
     "text": [
      "[[0.006      0.006      0.49100001 0.006      0.006     ]\n",
      " [0.97600003 0.006      0.49100001 0.006      0.006     ]\n",
      " [0.006      0.97600003 0.006      0.006      0.006     ]\n",
      " [0.006      0.006      0.006      0.006      0.49100001]\n",
      " [0.006      0.006      0.006      0.97600003 0.49100001]]\n"
     ]
    }
   ],
   "source": [
    "d = 0.97\n",
    "Ad = damping_pagerank_matrix(A, d)\n",
    "print(Ad)"
   ]
  },
  {
   "cell_type": "code",
   "execution_count": 48,
   "metadata": {},
   "outputs": [
    {
     "name": "stdout",
     "output_type": "stream",
     "text": [
      "For initial approximation x0 = [0.55137027 0.4517285  0.3311253  0.90891982 0.5462408 ] and number of iterations = 100\n",
      "Solution: \n",
      " lambda = 0.9999999999999998, \n",
      " x = [0.19794868 0.39589736 0.39589736 0.35981853 0.71963706], \n",
      " norm of residual = 3.521787733787174e-16\n"
     ]
    },
    {
     "data": {
      "image/png": "[encoded data removed]",
      "text/plain": [
       "<Figure size 936x576 with 1 Axes>"
      ]
     },
     "metadata": {
      "needs_background": "light"
     },
     "output_type": "display_data"
    }
   ],
   "source": [
    "x0 = np.random.rand(Ad.shape[0])\n",
    "num_iter = 100\n",
    "\n",
    "print('For initial approximation x0 = {} and number of iterations = {}'.format(x0, num_iter))\n",
    "x, l, res = power_method(A, x0=x0, num_iter=num_iter)\n",
    "print('Solution: \\n lambda = {0}, \\n x = {1}, \\n norm of residual = {2}'.format(l, x, res[-1]))\n",
    "\n",
    "plt.figure(figsize=(13, 8))\n",
    "plt.semilogy(res)\n",
    "plt.title('Convergence of power method for the damped PageRank matrix')\n",
    "plt.xlabel('Iteration')\n",
    "plt.ylabel('Residual norm')\n",
    "plt.show()"
   ]
  },
  {
   "cell_type": "markdown",
   "metadata": {},
   "source": [
    "**P4.2.7**\n",
    "\n",
    "* In the article [\"The Second Eigenvalue of the Google Matrix\"](https://nlp.stanford.edu/pubs/secondeigenvalue.pdf) written   by Taher H. Haveliwala and Sepandar D. Kamvar the **Theorem 1** states that:\n",
    "\n",
    "  Let $P$ be an $n\\times n$ row-stochastic matrix. Let $d$ be a real number such that $0 \\le d \\le 1$. Let $E$ be the  $n\\times n$ rank-one row-stochastic matrix $E = ev^T$, where $e$ is the $n$-vector whose elements are all $e_i = 1$, and   $v$ is an $n$-vector that represents a probability distribution (i.e., a vector whose elements are nonnegative and whose   $L_1$ norm is $1$).\n",
    "\n",
    "  Define the matrix $B = [dP + (1 − d)E]^T$. Its second eigenvalue $|\\lambda_2| \\le d$.\n",
    "\n",
    "\n",
    "* Notice, that $A$ is column-stochastic matrix (by construction), $\\cfrac{1}{N} \\begin{pmatrix} \n",
    "                                                                                1 & \\dots & 1 \\\\\n",
    "                                                                                \\vdots & & \\vdots \\\\\n",
    "                                                                                1 & \\dots & 1\n",
    "                                                                              \\end{pmatrix} = \n",
    "                                                                              \\begin{pmatrix} \n",
    "                                                                                1 \\\\\n",
    "                                                                                \\vdots \\\\\n",
    "                                                                                1\n",
    "                                                                              \\end{pmatrix} \n",
    "                                                                              \\begin{pmatrix} \n",
    "                                                                                \\frac{1}{N} & \\dots & \\frac{1}{N} \\\\\n",
    "                                                                              \\end{pmatrix}$,\n",
    "  where $e = \\begin{pmatrix} \n",
    "             1 \\\\\n",
    "             \\vdots \\\\\n",
    "             1\n",
    "           \\end{pmatrix}$ \n",
    "  \n",
    "  and $v^T = \\begin{pmatrix} \n",
    "               \\frac{1}{N} & \\dots & \\frac{1}{N} \\\\\n",
    "             \\end{pmatrix}$, $\\|v\\|_1 = 1$.\n",
    "\n",
    "\n",
    "* Thus, $A_d = \\bigl[A_d^T\\bigr]^T = \\bigl[(dA + (1 - d)ev^T)^T\\bigr]^T = \\bigl[dA^T + (1 - d)ve^T\\bigr]^T$.\n",
    "\n",
    "  But $A^T$ is row-stochastic matrix (because $A$ is column-stochastic matrix) and $ve^T = ev^T$. Then by **Theorem 1** second eigenvalue of $A_d$: $|\\lambda_2| \\le d$.\n",
    "  \n",
    "\n",
    "Since $A_d$ is column-stochastic matrix, $\\lambda_1 = 1, 1 \\ge |\\lambda_2| \\ge \\dots \\ge |\\lambda_n| \\ge 0$. So, the **convergence rate** of the PageRank algorithm when using damping factor is $q = \\cfrac{|\\lambda_2|}{|\\lambda_1|} \\le |\\lambda_2| \\le d \\le 1$."
   ]
  },
  {
   "cell_type": "code",
   "execution_count": 49,
   "metadata": {},
   "outputs": [],
   "source": [
    "# INPUT:  A - np.ndarray (2D), d - float (from 0.0 to 1.0), x - np.ndarray (1D, size of A.shape[0/1])\n",
    "# OUTPUT: y - np.ndarray (1D, size of x)\n",
    "def pagerank_matvec(A, d, x): # 2 pts\n",
    "    # enter your code here\n",
    "    y = np.dot(d*A, x)\n",
    "    y += (1 - d) / A.shape[0] * np.ones(A.shape[0]) * np.sum(x)\n",
    "    \n",
    "    return y"
   ]
  },
  {
   "cell_type": "markdown",
   "metadata": {},
   "source": [
    "#### DBLP: computer science bibliography\n",
    "\n",
    "Download the dataset from [here](https://goo.gl/oZVxEa), unzip it and put `dblp_authors.npz`  and `dblp_graph.npz` in the same folder with this notebook. Each value (author name) from `dblp_authors.npz` corresponds to the row/column of the matrix from `dblp_graph.npz`. Value at row `i` and column `j` of the matrix from `dblp_graph.npz` corresponds to the number of times author `i` cited papers of the author `j`. Let us now find the most significant scientists according to PageRank model over DBLP data.\n",
    "\n",
    "* (4 pts) Load the weighted adjacency matrix and the authors list into Python using ```load_dblp(...)``` function. Print its density (fraction of nonzero elements). Find top-10 most cited authors from the weighted adjacency matrix. Now, make all the weights of the adjacency matrix equal to 1 for simplicity (consider only existence of connection between authors, not its weight). Obtain the PageRank matrix $A$ from the adjacency matrix and verify that it is stochastic.\n",
    " \n",
    " \n",
    "* (1 pts) In order to provide ```pagerank_matvec``` to your ```power_method``` (without rewriting it) for fast calculation of $A_dx$, you can create a ```LinearOperator```: \n",
    "```python\n",
    "L = scipy.sparse.linalg.LinearOperator(A.shape, matvec=lambda x, A=A, d=d: pagerank_matvec(A, d, x))\n",
    "```\n",
    "Calling ```L@x``` or ```L.dot(x)``` will result in calculation of ```pagerank_matvec(A, d, x)``` and, thus, you can plug $L$ instead of the matrix $A$ in the ```power_method``` directly. **Note:** though in the previous subtask graph was very small (so you could disparage fast matvec implementation), here it is very large (but sparse), so that direct evaluation of $A_dx$ will require $\\sim 10^{12}$ matrix elements to store - good luck with that (^_<).\n",
    "\n",
    "\n",
    "* (2 pts) Run the power method starting from the vector of all ones and plot residuals $\\|A_dx_k - \\lambda_k x_k\\|_2$  as a function of $k$ for $d=0.85$.\n",
    "\n",
    "\n",
    "* (1 pts) Print names of the top-10 authors according to PageRank over DBLP when $d=0.85$. Comment on your findings."
   ]
  },
  {
   "cell_type": "code",
   "execution_count": null,
   "metadata": {},
   "outputs": [],
   "source": [
    "from scipy.sparse import load_npz\n",
    "import numpy as np\n",
    "def load_dblp(path_auth, path_graph):\n",
    "    G = load_npz(path_graph).astype(float)\n",
    "    with np.load(path_auth) as data: authors = data['authors']\n",
    "    return G, authors\n",
    "G, authors = load_dblp('dblp_authors.npz', 'dblp_graph.npz')"
   ]
  },
  {
   "cell_type": "code",
   "execution_count": null,
   "metadata": {},
   "outputs": [],
   "source": [
    "# Your code is here"
   ]
  }
 ],
 "metadata": {
  "kernelspec": {
   "display_name": "Python 3",
   "language": "python",
   "name": "python3"
  },
  "language_info": {
   "codemirror_mode": {
    "name": "ipython",
    "version": 3
   },
   "file_extension": ".py",
   "mimetype": "text/x-python",
   "name": "python",
   "nbconvert_exporter": "python",
   "pygments_lexer": "ipython3",
   "version": "3.7.3"
  },
  "toc": {
   "base_numbering": 1,
   "nav_menu": {},
   "number_sections": true,
   "sideBar": true,
   "skip_h1_title": false,
   "title_cell": "Table of Contents",
   "title_sidebar": "Contents",
   "toc_cell": false,
   "toc_position": {},
   "toc_section_display": true,
   "toc_window_display": false
  }
 },
 "nbformat": 4,
 "nbformat_minor": 2
}
